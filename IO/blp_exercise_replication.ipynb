{
 "cells": [
  {
   "cell_type": "markdown",
   "id": "1de7a6f7",
   "metadata": {},
   "source": [
    "##The idea of this project is to replicate the BLP model I did last year in IO. This will serve two purposes: 1) understand better the Julia basics, 2) review a little bit the BLP estimation.\n",
    "\n"
   ]
  },
  {
   "cell_type": "code",
   "execution_count": null,
   "id": "410cfc01",
   "metadata": {},
   "outputs": [],
   "source": [
    "##1. Simulate the data to work with. The idea is to generate a dataset that is similar to what I used to code the original BLP. \n",
    "\n",
    "using Random, DataFrames, Distributions\n",
    "\n",
    "#set seed\n",
    "\n",
    "Random.seed!(1234)\n",
    "\n",
    "#Generate parameters\n",
    "\n",
    "weeks= 52\n",
    "firms=4\n",
    "\n",
    "#Generate dataset\n",
    "data= DataFrame(\n",
    "    market=repeat(1:weeks, inner=firms), ##repeat 1:n the times of inner (firms)\n",
    "    firm=repeat(1:firms, outer=weeks)  #the opposite!!!\n",
    ")\n",
    "\n",
    "data.price= round.(5.0 .+ 2.0.*randn(size(data,1)), digits=2)\n",
    "\n",
    "base_alcohol= [4.5, 6.0, 7.0, 8.0]\n",
    "\n",
    "data.xo=repeat(base_alcohol, weeks) .+ 0.2 .*randn(size(data,1))\n",
    "\n",
    "data.sj= Vector{Float64}(undef, size(data, 1)) \n",
    "\n",
    "for w in 1:weeks\n",
    "    idx=(data.market .==w) ##This is called Booleian mask, it takes a subset of the market variable for which week is equalt to w\n",
    "    shares= rand(Dirichlet(firms, 2.0)) ##draws a vector of size firms with positive random? elements that sum to 1\n",
    "    data.sj[idx] .= shares .* 0.8 ##takes the subset of data.sj corresponding to the idx draw and replaces the data with the new shares computed. \n",
    "\n",
    "end \n",
    "\n",
    "n_hh_vec=[1000]\n",
    "\n",
    "# Total households (constant for now)\n",
    "data.no_hh = repeat(n_hh_vec, weeks*firms)\n",
    "\n",
    "for k in 1:3\n",
    "    colname = Symbol(\"cost_shift\", k)\n",
    "    data[!, colname] = rand(size(data, 1))  # Use the standard assignment operator (`=`)\n",
    "end\n",
    "\n",
    "##This generates the dataset that we will use for this simulation exercise. It was a useful experience to learn how we can \n",
    "\n"
   ]
  },
  {
   "cell_type": "code",
   "execution_count": null,
   "id": "a89fe45e",
   "metadata": {},
   "outputs": [],
   "source": [
    "##Exercise 1 of the PS. \n",
    "\n"
   ]
  }
 ],
 "metadata": {
  "kernelspec": {
   "display_name": "Julia 1.11.3",
   "language": "julia",
   "name": "julia-1.11"
  },
  "language_info": {
   "file_extension": ".jl",
   "mimetype": "application/julia",
   "name": "julia",
   "version": "1.11.3"
  }
 },
 "nbformat": 4,
 "nbformat_minor": 5
}
