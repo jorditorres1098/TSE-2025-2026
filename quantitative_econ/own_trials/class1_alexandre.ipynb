{
 "cells": [
  {
   "cell_type": "markdown",
   "id": "a1dcdd9a",
   "metadata": {},
   "source": [
    "**Class 1** Solve for the algorithm."
   ]
  },
  {
   "cell_type": "code",
   "execution_count": 18,
   "id": "09611fa0",
   "metadata": {},
   "outputs": [
    {
     "data": {
      "text/plain": [
       "1×1 Matrix{Float64}:\n",
       " 0.7999999940395368"
      ]
     },
     "metadata": {},
     "output_type": "display_data"
    }
   ],
   "source": [
    "gamma0=[1.0 0.0 0.0]\n",
    "crit=1.0\n",
    "tol=1e-8\n",
    "P=[0.8 0.1 0.1; 0.4 0.3 0.3; 0.2 0.4 0.4]\n",
    "\n",
    "iter=0\n",
    "maxiter=10_000\n",
    "while crit>tol && (iter<maxiter)\n",
    "    iter +=1\n",
    "    gamma1=gamma0 *P\n",
    "    crit= maximum(abs.(gamma1-gamma0))\n",
    "    gamma0=copy(gamma1)\n",
    "end \n",
    "\n",
    "s=[0.4 1.0 1.8]\n",
    "\n",
    "L= gamma0 * s'"
   ]
  },
  {
   "cell_type": "markdown",
   "id": "88db272a",
   "metadata": {},
   "source": [
    "**2.Exercise*** \n",
    "We move now to a more complicated problem. Now we have two dimensions of heterogeneity, alpha and s. Then we use a slightly different method to build the markovian chain."
   ]
  },
  {
   "cell_type": "code",
   "execution_count": 21,
   "id": "226d9aae",
   "metadata": {},
   "outputs": [
    {
     "data": {
      "text/plain": [
       "3×3 Matrix{Float64}:\n",
       " 0.0  0.0  0.0\n",
       " 0.0  0.0  0.0\n",
       " 0.0  0.0  0.0"
      ]
     },
     "metadata": {},
     "output_type": "display_data"
    }
   ],
   "source": [
    "M= [0.0 0.2; 0.1 0.4;0.3 0.8]\n",
    "M_2= [0.0;0.1;0.3]\n",
    "Grid_a=[0.0 0.5 1]\n",
    "\n",
    "s=[1 2]\n",
    "\n",
    "L= zeros(3,3)\n",
    "\n",
    "#first need to generate the matrix that will store the results. Suppose we want to implement only a 3 by three matrix\n",
    "\n",
    "for i in 1:3\n",
    "    for j in 1:3\n",
    "        if M_2[i]\n",
    "\n",
    "        L[i,j]= M_2[i]- \n",
    "\n",
    "    end    \n",
    "end    \n",
    "\n",
    "\n",
    "    "
   ]
  },
  {
   "cell_type": "code",
   "execution_count": 5,
   "id": "eb351004",
   "metadata": {},
   "outputs": [
    {
     "data": {
      "text/plain": [
       "3×3 Matrix{Float64}:\n",
       " 1.0  0.0  0.0\n",
       " 0.8  0.2  0.0\n",
       " 0.4  0.6  0.0"
      ]
     },
     "metadata": {},
     "output_type": "display_data"
    }
   ],
   "source": [
    "##let's start by a very simple case, where i want to automatize a function for the first situation. I need to use functions integrated in Julia to do this efficiently.\n",
    "M_2= [0.0, 0.1, 0.3]\n",
    "Grid_a=[0.0, 0.5, 1]\n",
    "\n",
    "pi= zeros(length(Grid_a), length(M_2))\n",
    "\n",
    "ixs= searchsortedlast.(Ref(Grid_a), M_2)\n",
    "interval=clamp.(ixs, 1, length(Grid_a)-1)\n",
    "\n",
    "a0=Grid_a[interval]\n",
    "a1=Grid_a[interval.+1]\n",
    "\n",
    "for j in 1:length(M_2)\n",
    "    w_right= (M_2[j]-a0[j])/(a1[j] - a0[j])\n",
    "    w_left= 1-w_right\n",
    "\n",
    "    pi[j, interval[j]]= w_left\n",
    "    pi[j, interval[j]+1]= w_right\n",
    "\n",
    "end \n",
    "\n",
    "pi\n",
    "\n",
    "\n",
    "\n",
    " \n",
    "\n",
    "\n",
    "\n",
    "\n",
    "\n",
    "\n",
    "\n"
   ]
  },
  {
   "cell_type": "code",
   "execution_count": null,
   "id": "3f31c53d",
   "metadata": {},
   "outputs": [],
   "source": [
    "##full fledge code\n",
    "\n",
    "M_2= [0.0 0.1 0.3; 0.2 0.4 0.8]\n",
    "Grid_a=[0.0, 0.5, 1]\n",
    "\n",
    "pi= zeros(length(Grid_a), size(M_2,2), size(M_2,1))\n",
    "\n",
    "for s in 1:2 \n",
    "    ixs= searchsortedlast.(Ref(Grid_a), M_2[s, :])\n",
    "    interval=clamp.(ixs, 1, length(Grid_a)-1)\n",
    "\n",
    "    a0=Grid_a[interval]\n",
    "    a1=Grid_a[interval.+1]\n",
    "\n",
    "    for j in 1:size(M_2,2)\n",
    "    w_right= (M_2[s,j]-a0[j])/(a1[j] - a0[j])\n",
    "    w_left= 1-w_right\n",
    "\n",
    "    pi[j, interval[j], s]= w_left\n",
    "    pi[j, interval[j]+1, s]= w_right\n",
    "    end \n",
    "end \n",
    "\n",
    "A = pi[:, :, 1]   \n",
    "B = pi[:, :, 2]   \n",
    "pi\n",
    "\n",
    "#done!\n"
   ]
  },
  {
   "cell_type": "markdown",
   "id": "54a87cce",
   "metadata": {},
   "source": [
    "**Class 2** "
   ]
  }
 ],
 "metadata": {
  "kernelspec": {
   "display_name": "Julia 1.11.3",
   "language": "julia",
   "name": "julia-1.11"
  },
  "language_info": {
   "file_extension": ".jl",
   "mimetype": "application/julia",
   "name": "julia",
   "version": "1.11.3"
  }
 },
 "nbformat": 4,
 "nbformat_minor": 5
}
