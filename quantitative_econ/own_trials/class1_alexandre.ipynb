{
 "cells": [
  {
   "cell_type": "markdown",
   "id": "a1dcdd9a",
   "metadata": {},
   "source": [
    "**Class 1** Solve for the algorithm."
   ]
  },
  {
   "cell_type": "code",
   "execution_count": 18,
   "id": "09611fa0",
   "metadata": {},
   "outputs": [
    {
     "data": {
      "text/plain": [
       "1×1 Matrix{Float64}:\n",
       " 0.7999999940395368"
      ]
     },
     "metadata": {},
     "output_type": "display_data"
    }
   ],
   "source": [
    "gamma0=[1.0 0.0 0.0]\n",
    "crit=1.0\n",
    "tol=1e-8\n",
    "P=[0.8 0.1 0.1; 0.4 0.3 0.3; 0.2 0.4 0.4]\n",
    "\n",
    "iter=0\n",
    "maxiter=10_000\n",
    "while crit>tol && (iter<maxiter)\n",
    "    iter +=1\n",
    "    gamma1=gamma0 *P\n",
    "    crit= maximum(abs.(gamma1-gamma0))\n",
    "    gamma0=copy(gamma1)\n",
    "end \n",
    "\n",
    "s=[0.4 1.0 1.8]\n",
    "\n",
    "L= gamma0 * s'"
   ]
  },
  {
   "cell_type": "markdown",
   "id": "88db272a",
   "metadata": {},
   "source": [
    "**2.Exercise*** \n",
    "We move now to a more complicated problem. Now we have two dimensions of heterogeneity, alpha and s. Then we use a slightly different method to build the markovian chain."
   ]
  },
  {
   "cell_type": "code",
   "execution_count": 21,
   "id": "226d9aae",
   "metadata": {},
   "outputs": [
    {
     "data": {
      "text/plain": [
       "3×3 Matrix{Float64}:\n",
       " 0.0  0.0  0.0\n",
       " 0.0  0.0  0.0\n",
       " 0.0  0.0  0.0"
      ]
     },
     "metadata": {},
     "output_type": "display_data"
    }
   ],
   "source": [
    "M= [0.0 0.2; 0.1 0.4;0.3 0.8]\n",
    "M_2= [0.0;0.1;0.3]\n",
    "Grid_a=[0.0 0.5 1]\n",
    "\n",
    "s=[1 2]\n",
    "\n",
    "L= zeros(3,3)\n",
    "\n",
    "#first need to generate the matrix that will store the results. Suppose we want to implement only a 3 by three matrix\n",
    "\n",
    "for i in 1:3\n",
    "    for j in 1:3\n",
    "        if M_2[i]\n",
    "\n",
    "        L[i,j]= M_2[i]- \n",
    "\n",
    "    end    \n",
    "end    \n",
    "\n",
    "\n",
    "    "
   ]
  }
 ],
 "metadata": {
  "kernelspec": {
   "display_name": "Julia 1.11.3",
   "language": "julia",
   "name": "julia-1.11"
  },
  "language_info": {
   "file_extension": ".jl",
   "mimetype": "application/julia",
   "name": "julia",
   "version": "1.11.3"
  }
 },
 "nbformat": 4,
 "nbformat_minor": 5
}
