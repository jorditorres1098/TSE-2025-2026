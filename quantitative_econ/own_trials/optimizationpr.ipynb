{
 "cells": [
  {
   "cell_type": "markdown",
   "id": "6d214cb5",
   "metadata": {},
   "source": [
    "**1. Optimization practice** this is just a review of the code we have for solving Bellman equations. "
   ]
  },
  {
   "cell_type": "code",
   "execution_count": null,
   "id": "1dde86a5",
   "metadata": {},
   "outputs": [
    {
     "data": {
      "text/plain": [
       "T_operator (generic function with 1 method)"
      ]
     },
     "metadata": {},
     "output_type": "display_data"
    }
   ],
   "source": [
    "\n",
    "function expectation(v, P)\n",
    "    return v*P'\n",
    "end\n",
    "\n",
    "function T_operator(v,kgrid,agrid,param,P,Ri) \n",
    "    \"\"\"\n",
    "    Defines the T operator as the list of operations to solve the maximization program\n",
    "    in the right hand side of the Bellman equation: max u(c_t)+β v(k_{t+1})\n",
    "    \n",
    "    Input:\n",
    "      v:     The guess of the value function at current iteration \n",
    "      kgrid: The capital grid\n",
    "      param: A (4x1) vector of parameters\n",
    "      agrid: Grid of values for the shock\n",
    "      P    : Transition matrix for the shock\n",
    "    \n",
    "    Output: \n",
    "     Tv: The new guess for the value function (we applied the T operator to v)\n",
    "     Gk: The implied optimal capital decision rule\n",
    "    \"\"\"   \n",
    "\n",
    "\n",
    "    α, β, δ, σ = param \n",
    "    Tv= size(v)\n",
    "    Gk= size(v) ##these we just to be the same as the structure of state variables we may have. \n",
    "    Nk,Na= size(v) #this facilitates looping over stuff. Here we just need an outer and and inner loop to work. On both state variables. \n",
    "    Ev= expectation(v,P)\n",
    "\n",
    "    for ia in 1:size(Na)\n",
    "        next_index=1\n",
    "            for ik in 1:size(Nk)\n",
    "                vmax=-Inf\n",
    "                k_prime=0.0\n",
    "                r=Ri(ia, ik)\n",
    "                    for jk in next_index:Nk\n",
    "                        kp=kgrid[jk]\n",
    "                        vj=util(r-kp,σ)+ β*Ev(ia, jk)\n",
    "                        if vj>vmax \n",
    "                            next_index=jk\n",
    "                            vmax=vj\n",
    "                            k_prime=kp\n",
    "                        else \n",
    "                            break\n",
    "                        end \n",
    "                    end \n",
    "                @inbounds Tv[ia,ik]= vmax\n",
    "                @inbounds Gk[ia, ik]= k_prime\n",
    "                end\n",
    "            end \n",
    "        end\n"
   ]
  }
 ],
 "metadata": {
  "kernelspec": {
   "display_name": "Julia 1.11.3",
   "language": "julia",
   "name": "julia-1.11"
  },
  "language_info": {
   "file_extension": ".jl",
   "mimetype": "application/julia",
   "name": "julia",
   "version": "1.11.3"
  }
 },
 "nbformat": 4,
 "nbformat_minor": 5
}
