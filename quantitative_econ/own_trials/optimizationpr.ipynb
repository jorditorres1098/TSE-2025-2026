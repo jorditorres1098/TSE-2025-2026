{
 "cells": [
  {
   "cell_type": "markdown",
   "id": "6d214cb5",
   "metadata": {},
   "source": [
    "**1. Optimization practice** this is just a review of the code we have for solving Bellman equations. "
   ]
  },
  {
   "cell_type": "code",
   "execution_count": 1,
   "id": "736a1e4b",
   "metadata": {},
   "outputs": [
    {
     "data": {
      "text/plain": [
       "_rouwenhorst (generic function with 1 method)"
      ]
     },
     "metadata": {},
     "output_type": "display_data"
    }
   ],
   "source": [
    "using LinearAlgebra, Interpolations, Distributions, FastGaussQuadrature\n",
    "Φ(x::T) where {T<:Real} = cdf(Normal(0, 1), x)\n",
    "\n",
    "\n",
    "function rouwenhorst(N::Integer,ρ::T1,σ::T2,μ = zero(promote_type(T1, T2))) where {T1<:Real,T2<:Real}\n",
    "    σ_y = σ / sqrt(1-ρ^2)\n",
    "    p   = (1+ρ)/2\n",
    "    Θ   = [p 1-p; 1-p p]\n",
    "    Δ   = sqrt(N-1) * σ_y\n",
    "    Y,P = _rouwenhorst(p, p, μ, Δ, N)\n",
    "    return Y,P\n",
    "end\n",
    "\n",
    "function _rouwenhorst(p::Real, q::Real, μ::Real, Δ::Real, N::Integer)\n",
    "    if N == 2\n",
    "        return [μ-Δ,μ+Δ],[p 1-p;1-q q]\n",
    "    else\n",
    "        _, P_nm1       = _rouwenhorst(p,q,μ,Δ,N-1)\n",
    "        P              = p*[P_nm1 zeros(N-1,1); zeros(1,N)]+\n",
    "                         (1-p)*[zeros(N-1,1) P_nm1; zeros(1,N)] +\n",
    "                         q*[zeros(1,N); zeros(N-1,1) P_nm1] +\n",
    "                         (1-q)*[zeros(1,N); P_nm1 zeros(N-1,1)]\n",
    "        P[2:end-1,:] ./= 2\n",
    "        Y              = collect(range(μ-Δ, stop=μ+Δ, length=N))\n",
    "        return Y,P\n",
    "    end\n",
    "end"
   ]
  },
  {
   "cell_type": "code",
   "execution_count": 2,
   "id": "1dde86a5",
   "metadata": {},
   "outputs": [
    {
     "data": {
      "text/plain": [
       "t_operator (generic function with 1 method)"
      ]
     },
     "metadata": {},
     "output_type": "display_data"
    }
   ],
   "source": [
    "\n",
    "function expectation(x,P)\n",
    "    return x*P'\n",
    "end\n",
    "\n",
    "function t_operator(v,kgrid,agrid,param,P,Ri) \n",
    "    \"\"\"\n",
    "    Defines the T operator as the list of operations to solve the maximization program\n",
    "    in the right hand side of the Bellman equation: max u(c_t)+β v(k_{t+1})\n",
    "    \n",
    "    Input:\n",
    "      v:     The guess of the value function at current iteration \n",
    "      kgrid: The capital grid\n",
    "      param: A (4x1) vector of parameters\n",
    "      agrid: Grid of values for the shock\n",
    "      P    : Transition matrix for the shock\n",
    "    \n",
    "    Output: \n",
    "     Tv: The new guess for the value function (we applied the T operator to v)\n",
    "     Gk: The implied optimal capital decision rule\n",
    "    \"\"\"   \n",
    "\n",
    "\n",
    "    α,β,δ,σ = param\n",
    "    Tv   = similar(v)\n",
    "    Gk   = similar(v)    \n",
    "    Nk,Na= size(v) ##this is symmetric, two grid points we may have.\n",
    "    Ev   = expectation(v,P)\n",
    "\n",
    "  for ia in 1:Na\n",
    "        next_index=1\n",
    "        for ik in 1:Nk\n",
    "            Vmax    =-Inf\n",
    "            k_prime = 0.0\n",
    "            r       = Ri[ik,ia]\n",
    "            for jk in next_index:Nk\n",
    "                kp   = kgrid[jk]\n",
    "                vtmp = util(r-kp,σ)+β*Ev[jk,ia]\n",
    "                if vtmp>=Vmax\n",
    "                    next_index= jk\n",
    "                    Vmax      = vtmp\n",
    "                    k_prime   = kp\n",
    "                else\n",
    "                    break\n",
    "                end\n",
    "            end\n",
    "            @inbounds Tv[ik,ia] = Vmax\n",
    "            @inbounds Gk[ik,ia] = k_prime\n",
    "        end \n",
    "    end\n",
    "    return Tv,Gk\n",
    "end\n",
    "\n"
   ]
  },
  {
   "cell_type": "markdown",
   "id": "e26e5b64",
   "metadata": {},
   "source": [
    "**Step2** I need to create the bellman equation loop. The idea is to loop over it to find a fixed point. "
   ]
  },
  {
   "cell_type": "code",
   "execution_count": 3,
   "id": "c9bb0125",
   "metadata": {},
   "outputs": [
    {
     "data": {
      "text/plain": [
       "bellman_equation (generic function with 1 method)"
      ]
     },
     "metadata": {},
     "output_type": "display_data"
    }
   ],
   "source": [
    "function bellman_equation(kgrid,agrid,param,P,t_operator,Ri;criterion=:value)\n",
    "    tol=1e-08\n",
    "    crit=1\n",
    "    Nk = length(kgrid)\n",
    "    Na = length(agrid)\n",
    "    v  = zeros(Float64,Nk,Na) \n",
    "    Gk0= similar(v)\n",
    "\n",
    "    while err>tol\n",
    "        \n",
    "        Tv, Gv= t_operator(v,kgrid,agrid,param,P,Ri)\n",
    "        crit   = criterion== :value ? maximum(abs.(Tv-v)) : maximum(abs(Gv-Gk0))##this is important to keep in mind.\n",
    "        v= copy(Tv)\n",
    "        Gk0= copy(Gv)\n",
    "\n",
    "    end \n",
    "end "
   ]
  },
  {
   "cell_type": "code",
   "execution_count": 4,
   "id": "318db100",
   "metadata": {},
   "outputs": [],
   "source": [
    "# Define the parametric assumptions\n",
    "\n",
    "# 1) Define some functions\n",
    "util = (c,σ) -> c>0 ? (c^(1-σ)-1.0)/(1.0-σ) : -Inf  # Utility function, taking care of negative values of x\n",
    "R    = (k,a,α,δ) -> a*k^α+(1.0-δ)*k                 # Total available resources\n",
    "\n",
    "# 2) Define some parameters\n",
    "α    = 0.33    # Capital elasticity in production function\n",
    "β    = 0.96    # Discount factor\n",
    "δ    = 0.10    # Depreciation rate\n",
    "σ    = 2.00    # utility curvature (Intertemporal eleasticity of substitution)\n",
    "param= [α,β,δ,σ]\n",
    "\n",
    "# 3) Define the shocks -> log(a_t) = ρ \\log(a_{t-1}) + (1-ρ)μ + ϵ_t  ϵ_t ~> N(0,σ²)  \n",
    "# and approximate it by a Markov Chain\n",
    "ρ    = 0.8     # persistence of the shock\n",
    "σ    = 0.02    # Volatility of the innovation\n",
    "μ    = 0       # Average of the process\n",
    "N    = 5       # Number of points in the grid of shocks\n",
    "# Δ    = 3.0     # number of std deviations away from the mean (Tauchen only)\n",
    "# la,P = tauchen(N,ρ,σ,μ,Δ)   # If Tauchen's (1986) method is chosen\n",
    "la,P = rouwenhorst(N,ρ,σ,μ) # If Rouwenhorst's (1995) method is chosen\n",
    "# p=(1.0+ρ)/2.0\n",
    "# pi=0.02\n",
    "# da=0.025\n",
    "# disast=0.2\n",
    "# la=[da -da log(1-disast)-da]\n",
    "# P=[(1-pi)*p (1-pi)*(1-p) pi;(1-pi)*(1-p) (1-pi)*p pi;0.5 0.5 0]\n",
    "# la   = [-0.05 0.05]\n",
    "# P    = [0.8 0.2;0.2 0.8]\n",
    "# N    = 2\n",
    "agrid= exp.(la);\n",
    "\n",
    "# 4) Define the grid\n",
    "kss  = (α*β/(1.0-β*(1.0-δ)))^(1.0/(1.0-α)) # Deterministic steady state of capital\n",
    "Δk   = 0.5\n",
    "kmin = (1.0-Δk)*kss\n",
    "kmax = (1.0+Δk)*kss\n",
    "Nk   = 1_000\n",
    "kgrid= range(kmin,stop=kmax,length=Nk)\n",
    "Ri   = [R(kgrid[ik],agrid[ia],α,δ) for ik in 1:Nk,ia in 1:N]\n",
    ";"
   ]
  },
  {
   "cell_type": "code",
   "execution_count": 5,
   "id": "4b5a5257",
   "metadata": {},
   "outputs": [
    {
     "ename": "MethodError",
     "evalue": "MethodError: no method matching isless(::Float64, ::Nothing)\nThe function `isless` exists, but no method is defined for this combination of argument types.\n\nClosest candidates are:\n  isless(!Matched::Missing, ::Any)\n   @ Base missing.jl:87\n  isless(::Any, !Matched::Missing)\n   @ Base missing.jl:88\n  isless(::AbstractFloat, !Matched::Union{StatsBase.PValue, StatsBase.TestStat})\n   @ StatsBase ~/.julia/packages/StatsBase/yZS2U/src/statmodels.jl:100\n  ...\n",
     "output_type": "error",
     "traceback": [
      "MethodError: no method matching isless(::Float64, ::Nothing)\n",
      "The function `isless` exists, but no method is defined for this combination of argument types.\n",
      "\n",
      "Closest candidates are:\n",
      "  isless(!Matched::Missing, ::Any)\n",
      "   @ Base missing.jl:87\n",
      "  isless(::Any, !Matched::Missing)\n",
      "   @ Base missing.jl:88\n",
      "  isless(::AbstractFloat, !Matched::Union{StatsBase.PValue, StatsBase.TestStat})\n",
      "   @ StatsBase ~/.julia/packages/StatsBase/yZS2U/src/statmodels.jl:100\n",
      "  ...\n",
      "\n",
      "\n",
      "Stacktrace:\n",
      " [1] <(x::Float64, y::Nothing)\n",
      "   @ Base ./operators.jl:353\n",
      " [2] >(x::Nothing, y::Float64)\n",
      "   @ Base ./operators.jl:379\n",
      " [3] bellman_equation(kgrid::StepRangeLen{Float64, Base.TwicePrecision{Float64}, Base.TwicePrecision{Float64}, Int64}, agrid::Vector{Float64}, param::Vector{Float64}, P::Matrix{Float64}, t_operator::typeof(t_operator), Ri::Matrix{Float64}; criterion::Symbol)\n",
      "   @ Main ~/Documents/GitHub/TSE-2025-2026/quantitative_econ/own_trials/jl_notebook_cell_df34fa98e69747e1a8f8a730347b8e2f_W4sZmlsZQ==.jl:9\n",
      " [4] macro expansion\n",
      "   @ ./timing.jl:581 [inlined]\n",
      " [5] top-level scope\n",
      "   @ ~/Documents/GitHub/TSE-2025-2026/quantitative_econ/own_trials/jl_notebook_cell_df34fa98e69747e1a8f8a730347b8e2f_W6sZmlsZQ==.jl:2"
     ]
    }
   ],
   "source": [
    "##Apply the function we have just coded... Probably it will not work \n",
    "@time v,Gk=bellman_equation(kgrid,agrid,param,P,t_operator,Ri;criterion=:decision_rule)\n",
    "\n"
   ]
  }
 ],
 "metadata": {
  "kernelspec": {
   "display_name": "Julia 1.11.3",
   "language": "julia",
   "name": "julia-1.11"
  },
  "language_info": {
   "file_extension": ".jl",
   "mimetype": "application/julia",
   "name": "julia",
   "version": "1.11.3"
  }
 },
 "nbformat": 4,
 "nbformat_minor": 5
}
