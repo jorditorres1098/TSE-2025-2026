{
 "cells": [
  {
   "cell_type": "markdown",
   "id": "6d214cb5",
   "metadata": {},
   "source": [
    "**1. Optimization practice** this is just a review of the code we have for solving Bellman equations. "
   ]
  },
  {
   "cell_type": "code",
   "execution_count": null,
   "id": "1dde86a5",
   "metadata": {},
   "outputs": [
    {
     "data": {
      "text/plain": [
       "t_operator (generic function with 1 method)"
      ]
     },
     "metadata": {},
     "output_type": "display_data"
    }
   ],
   "source": [
    "\n",
    "function expectation(x, P)\n",
    "    return x*P'\n",
    "end\n",
    "\n",
    "function t_operator(v,kgrid,agrid,param,P,Ri) \n",
    "    \"\"\"\n",
    "    Defines the T operator as the list of operations to solve the maximization program\n",
    "    in the right hand side of the Bellman equation: max u(c_t)+β v(k_{t+1})\n",
    "    \n",
    "    Input:\n",
    "      v:     The guess of the value function at current iteration \n",
    "      kgrid: The capital grid\n",
    "      param: A (4x1) vector of parameters\n",
    "      agrid: Grid of values for the shock\n",
    "      P    : Transition matrix for the shock\n",
    "    \n",
    "    Output: \n",
    "     Tv: The new guess for the value function (we applied the T operator to v)\n",
    "     Gk: The implied optimal capital decision rule\n",
    "    \"\"\"   \n",
    "\n",
    "\n",
    "    α, β, δ, σ = param \n",
    "    Tv= size(v)\n",
    "    Gk= size(v) ##these we just to be the same as the structure of state variables we may have. \n",
    "    Nk,Na= size(v) #this facilitates looping over stuff. Here we just need an outer and and inner loop to work. On both state variables. \n",
    "    Ev= expectation(v,P)\n",
    "\n",
    "    for ia in 1:size(Na)\n",
    "        next_index=1\n",
    "            for ik in 1:size(Nk)\n",
    "                vmax=-Inf\n",
    "                k_prime=0.0\n",
    "                r=Ri(ia, ik)\n",
    "                    for jk in next_index:Nk\n",
    "                        kp=kgrid[jk]\n",
    "                        vj=util(r-kp,σ)+ β*Ev(ia, ik)\n",
    "                        if vj>vmax \n",
    "                            next_index=jk\n",
    "                            vmax=vj\n",
    "                            k_prime=kp\n",
    "                        else \n",
    "                            break\n",
    "                        end \n",
    "                    end \n",
    "                @inbounds Tv[ia,ik]= vmax\n",
    "                @inbounds Gk[ia,ik]= k_prime\n",
    "            end\n",
    "        end \n",
    "     end \n",
    "    \n",
    "\n"
   ]
  },
  {
   "cell_type": "markdown",
   "id": "e26e5b64",
   "metadata": {},
   "source": [
    "**Step2** I need to create the bellman equation loop. The idea is to loop over it to find a fixed point. "
   ]
  },
  {
   "cell_type": "code",
   "execution_count": 26,
   "id": "c9bb0125",
   "metadata": {},
   "outputs": [
    {
     "data": {
      "text/plain": [
       "bellman_equation (generic function with 1 method)"
      ]
     },
     "metadata": {},
     "output_type": "display_data"
    }
   ],
   "source": [
    "function bellman_equation(kgrid,agrid,param,P,Toperator,Ri)\n",
    "    tol=1e-08\n",
    "    crit=1\n",
    "    Nk = length(kgrid)\n",
    "    Na = length(agrid)\n",
    "    v=zeros(Na, Nk) ##initial guess of the value function\n",
    "    Gk0= similar(v)\n",
    "\n",
    "    while crit>tol\n",
    "        \n",
    "        Tv, Gv= t_operator(v,kgrid,agrid,param,P,Ri)\n",
    "        crit= maximum(abs.(Tv-v)): maximum(abs.(Gv-Gk0))\n",
    "        v= copy(Tv)\n",
    "        Gk0= copy(Gv)\n",
    "\n",
    "    end \n",
    "end "
   ]
  },
  {
   "cell_type": "code",
   "execution_count": 11,
   "id": "6ec91e7e",
   "metadata": {},
   "outputs": [
    {
     "data": {
      "text/plain": [
       "_rouwenhorst (generic function with 1 method)"
      ]
     },
     "metadata": {},
     "output_type": "display_data"
    }
   ],
   "source": [
    "using LinearAlgebra, Interpolations, Distributions, FastGaussQuadrature\n",
    "\n",
    "\n",
    "\n",
    "\n",
    "function rouwenhorst(N::Integer,ρ::T1,σ::T2,μ = zero(promote_type(T1, T2))) where {T1<:Real,T2<:Real}\n",
    "    σ_y = σ / sqrt(1-ρ^2)\n",
    "    p   = (1+ρ)/2\n",
    "    Θ   = [p 1-p; 1-p p]\n",
    "    Δ   = sqrt(N-1) * σ_y\n",
    "    Y,P = _rouwenhorst(p, p, μ, Δ, N)\n",
    "    return Y,P\n",
    "end\n",
    "\n",
    "function _rouwenhorst(p::Real, q::Real, μ::Real, Δ::Real, N::Integer)\n",
    "    if N == 2\n",
    "        return [μ-Δ,μ+Δ],[p 1-p;1-q q]\n",
    "    else\n",
    "        _, P_nm1       = _rouwenhorst(p,q,μ,Δ,N-1)\n",
    "        P              = p*[P_nm1 zeros(N-1,1); zeros(1,N)]+\n",
    "                         (1-p)*[zeros(N-1,1) P_nm1; zeros(1,N)] +\n",
    "                         q*[zeros(1,N); zeros(N-1,1) P_nm1] +\n",
    "                         (1-q)*[zeros(1,N); P_nm1 zeros(N-1,1)]\n",
    "        P[2:end-1,:] ./= 2\n",
    "        Y              = collect(range(μ-Δ, stop=μ+Δ, length=N))\n",
    "        return Y,P\n",
    "    end\n",
    "end"
   ]
  },
  {
   "cell_type": "code",
   "execution_count": 12,
   "id": "318db100",
   "metadata": {},
   "outputs": [],
   "source": [
    "# Define the parametric assumptions\n",
    "\n",
    "# 1) Define some functions\n",
    "util = (c,σ) -> c>0 ? (c^(1-σ)-1.0)/(1.0-σ) : -Inf  # Utility function, taking care of negative values of x\n",
    "R    = (k,a,α,δ) -> a*k^α+(1.0-δ)*k                 # Total available resources\n",
    "\n",
    "# 2) Define some parameters\n",
    "α    = 0.33    # Capital elasticity in production function\n",
    "β    = 0.96    # Discount factor\n",
    "δ    = 0.10    # Depreciation rate\n",
    "σ    = 2.00    # utility curvature (Intertemporal eleasticity of substitution)\n",
    "param= [α,β,δ,σ]\n",
    "\n",
    "# 3) Define the shocks -> log(a_t) = ρ \\log(a_{t-1}) + (1-ρ)μ + ϵ_t  ϵ_t ~> N(0,σ²)  \n",
    "# and approximate it by a Markov Chain\n",
    "ρ    = 0.8     # persistence of the shock\n",
    "σ    = 0.02    # Volatility of the innovation\n",
    "μ    = 0       # Average of the process\n",
    "N    = 5       # Number of points in the grid of shocks\n",
    "# Δ    = 3.0     # number of std deviations away from the mean (Tauchen only)\n",
    "# la,P = tauchen(N,ρ,σ,μ,Δ)   # If Tauchen's (1986) method is chosen\n",
    "la,P = rouwenhorst(N,ρ,σ,μ) # If Rouwenhorst's (1995) method is chosen\n",
    "# p=(1.0+ρ)/2.0\n",
    "# pi=0.02\n",
    "# da=0.025\n",
    "# disast=0.2\n",
    "# la=[da -da log(1-disast)-da]\n",
    "# P=[(1-pi)*p (1-pi)*(1-p) pi;(1-pi)*(1-p) (1-pi)*p pi;0.5 0.5 0]\n",
    "# la   = [-0.05 0.05]\n",
    "# P    = [0.8 0.2;0.2 0.8]\n",
    "# N    = 2\n",
    "agrid= exp.(la);\n",
    "\n",
    "# 4) Define the grid\n",
    "kss  = (α*β/(1.0-β*(1.0-δ)))^(1.0/(1.0-α)) # Deterministic steady state of capital\n",
    "Δk   = 0.5\n",
    "kmin = (1.0-Δk)*kss\n",
    "kmax = (1.0+Δk)*kss\n",
    "Nk   = 1_000\n",
    "kgrid= range(kmin,stop=kmax,length=Nk)\n",
    "Ri   = [R(kgrid[ik],agrid[ia],α,δ) for ik in 1:Nk,ia in 1:N]\n",
    ";"
   ]
  },
  {
   "cell_type": "code",
   "execution_count": 32,
   "id": "4b5a5257",
   "metadata": {},
   "outputs": [
    {
     "ename": "DimensionMismatch",
     "evalue": "DimensionMismatch: A has dimensions (5,1000) but B has dimensions (5,5)",
     "output_type": "error",
     "traceback": [
      "DimensionMismatch: A has dimensions (5,1000) but B has dimensions (5,5)\n",
      "\n",
      "Stacktrace:\n",
      "  [1] gemm_wrapper!(C::Matrix{Float64}, tA::Char, tB::Char, A::Matrix{Float64}, B::Matrix{Float64}, _add::LinearAlgebra.MulAddMul{true, true, Bool, Bool})\n",
      "    @ LinearAlgebra ~/.julia/juliaup/julia-1.11.3+0.aarch64.apple.darwin14/share/julia/stdlib/v1.11/LinearAlgebra/src/matmul.jl:629\n",
      "  [2] generic_matmatmul!\n",
      "    @ ~/.julia/juliaup/julia-1.11.3+0.aarch64.apple.darwin14/share/julia/stdlib/v1.11/LinearAlgebra/src/matmul.jl:381 [inlined]\n",
      "  [3] _mul!\n",
      "    @ ~/.julia/juliaup/julia-1.11.3+0.aarch64.apple.darwin14/share/julia/stdlib/v1.11/LinearAlgebra/src/matmul.jl:287 [inlined]\n",
      "  [4] mul!\n",
      "    @ ~/.julia/juliaup/julia-1.11.3+0.aarch64.apple.darwin14/share/julia/stdlib/v1.11/LinearAlgebra/src/matmul.jl:285 [inlined]\n",
      "  [5] mul!\n",
      "    @ ~/.julia/juliaup/julia-1.11.3+0.aarch64.apple.darwin14/share/julia/stdlib/v1.11/LinearAlgebra/src/matmul.jl:253 [inlined]\n",
      "  [6] *\n",
      "    @ ~/.julia/juliaup/julia-1.11.3+0.aarch64.apple.darwin14/share/julia/stdlib/v1.11/LinearAlgebra/src/matmul.jl:124 [inlined]\n",
      "  [7] expectation\n",
      "    @ ~/Documents/GitHub/TSE-2025-2026/quantitative_econ/own_trials/jl_notebook_cell_df34fa98e69747e1a8f8a730347b8e2f_W1sZmlsZQ==.jl:3 [inlined]\n",
      "  [8] t_operator(v::Matrix{Float64}, kgrid::StepRangeLen{Float64, Base.TwicePrecision{Float64}, Base.TwicePrecision{Float64}, Int64}, agrid::Vector{Float64}, param::Vector{Float64}, P::Matrix{Float64}, Ri::Matrix{Float64})\n",
      "    @ Main ~/Documents/GitHub/TSE-2025-2026/quantitative_econ/own_trials/jl_notebook_cell_df34fa98e69747e1a8f8a730347b8e2f_W1sZmlsZQ==.jl:28\n",
      "  [9] bellman_equation(kgrid::StepRangeLen{Float64, Base.TwicePrecision{Float64}, Base.TwicePrecision{Float64}, Int64}, agrid::Vector{Float64}, param::Vector{Float64}, P::Matrix{Float64}, Toperator::Function, Ri::Matrix{Float64})\n",
      "    @ Main ~/Documents/GitHub/TSE-2025-2026/quantitative_econ/own_trials/jl_notebook_cell_df34fa98e69747e1a8f8a730347b8e2f_W3sZmlsZQ==.jl:11\n",
      " [10] top-level scope\n",
      "    @ ~/Documents/GitHub/TSE-2025-2026/quantitative_econ/own_trials/jl_notebook_cell_df34fa98e69747e1a8f8a730347b8e2f_W6sZmlsZQ==.jl:2"
     ]
    }
   ],
   "source": [
    "##Apply the function we have just coded... Probably it will not work \n",
    "Vt,Gk= bellman_equation(kgrid,agrid,param,P,t_operator,Ri)\n",
    "\n"
   ]
  }
 ],
 "metadata": {
  "kernelspec": {
   "display_name": "Julia 1.11.3",
   "language": "julia",
   "name": "julia-1.11"
  },
  "language_info": {
   "file_extension": ".jl",
   "mimetype": "application/julia",
   "name": "julia",
   "version": "1.11.3"
  }
 },
 "nbformat": 4,
 "nbformat_minor": 5
}
