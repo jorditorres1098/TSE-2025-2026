{
 "cells": [
  {
   "cell_type": "markdown",
   "id": "92fbda20",
   "metadata": {},
   "source": [
    "**1.Lay out** This is to practice the full replication of the basic Ayagari model but coding each function myself"
   ]
  },
  {
   "cell_type": "code",
   "execution_count": null,
   "id": "39c19cbe",
   "metadata": {},
   "outputs": [],
   "source": [
    "using Printf;\n",
    "using Roots;\n",
    "using Plots;\n",
    "\n",
    "#wider page display\n",
    "display(\"text/html\", \"<style>.container { width:100% !important; }</style>\")"
   ]
  },
  {
   "cell_type": "code",
   "execution_count": null,
   "id": "327330d5",
   "metadata": {},
   "outputs": [
    {
     "name": "stderr",
     "output_type": "stream",
     "text": [
      "WARNING: redefinition of constant Main.sstates. This may fail, cause incorrect answers, or produce other errors.\n",
      "WARNING: redefinition of constant Main.strans. This may fail, cause incorrect answers, or produce other errors.\n"
     ]
    }
   ],
   "source": [
    "const size_k \t= 1000;    #number of grid points     \n",
    "const size_m \t= 7;       #number of productivity classes\n",
    "\n",
    "const kmin \t\t= 0.0;\n",
    "const kmax \t\t= 1700.0;\n",
    "\n",
    "const betapar \t= 0.96;\n",
    "const alphapar \t= 0.36;\n",
    "const deltapar \t= 0.08;\n",
    "const rhopar \t= 3.0;\n",
    "const labor \t= 1.0219882;\n",
    "\n",
    "const epsV \t\t= 1.0e-8;\n",
    "const epsdist \t= 1.0e-10;\n",
    "const epsK\t\t= 1.0e-6;\n",
    "const relaxsK \t= 0.01;\n",
    "\n",
    "## grid constants\n",
    "const scale1 = 1.6;\n",
    "const grmin = (kmin/scale1)-1.0;\n",
    "const exponen=log((kmax/scale1)-grmin)/(size_k-1);\n",
    "\n",
    "const sstates = [exp(-0.600000000000000)\t  exp(-0.400000000000000)\t  exp(-0.200000000000000)\t  exp(0.000000000000000)\t   exp(0.200000000000000)\t   exp(0.400000000000000)\t   exp(0.600000000000000)];\n",
    "\n",
    "const strans = [\t\n",
    "    0.046746218637144\t   0.217937777267117\t   0.397822606398702\t   0.266386738072197\t   0.065169922261456\t   0.005754191945237\t   0.000182545418147;\t\n",
    "\t0.023199661746751\t   0.149524091076020\t   0.369020347246402\t   0.333823905199677\t   0.110578117872631\t   0.013276146769082\t   0.000577730089437;\t\n",
    "\t0.010548958644399\t   0.093657511915497\t   0.312761268311836\t   0.382193227897354\t   0.171253064028981\t   0.027919224002876\t   0.001666745199056;\t\n",
    "\t0.004387354018187\t   0.053538402796357\t   0.242163972572887\t   0.399820541225137\t   0.242163972572887\t   0.053538402796357\t   0.004387354018187;\t\n",
    "\t0.001666745199056\t   0.027919224002876\t   0.171253064028981\t   0.382193227897354\t   0.312761268311837\t   0.093657511915497\t   0.010548958644399;\t\n",
    "\t0.000577730089436\t   0.013276146769082\t   0.110578117872631\t   0.333823905199677\t   0.369020347246403\t   0.149524091076020\t   0.023199661746751;\t\n",
    "\t0.000182545418147\t   0.005754191945237\t   0.065169922261456\t   0.266386738072197\t   0.397822606398702\t   0.217937777267117\t   0.046746218637144];"
   ]
  },
  {
   "cell_type": "code",
   "execution_count": null,
   "id": "29b6b9eb",
   "metadata": {},
   "outputs": [],
   "source": [
    "function utility(consu::Float64)       \n",
    "    return (consu^(1.0-μ)-1)/(1.0-μ)\n",
    "end \n",
    "\n",
    "function invmargutil(util::Float64)\n",
    "    return (util^(-1.0/rhopar)); ##here we just compute the two functions we will use throughout. \n",
    "end\n",
    "\n"
   ]
  }
 ],
 "metadata": {
  "kernelspec": {
   "display_name": "Julia 1.11.3",
   "language": "julia",
   "name": "julia-1.11"
  },
  "language_info": {
   "file_extension": ".jl",
   "mimetype": "application/julia",
   "name": "julia",
   "version": "1.11.3"
  }
 },
 "nbformat": 4,
 "nbformat_minor": 5
}
