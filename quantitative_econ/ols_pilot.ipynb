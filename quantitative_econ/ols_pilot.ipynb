{
 "cells": [
  {
   "cell_type": "markdown",
   "id": "87cb4961",
   "metadata": {},
   "source": [
    "\n",
    "\n",
    "1. **Simulate data**  \n",
    "   - Generate \\(x_{1i}\\) and \\(x_{2i}\\).  \n",
    "   - Construct the design matrix \\(X\\) with a column of ones (for the intercept) and the two regressors.  \n",
    "   - Generate \\(y\\) using the true model.  \n",
    "\n",
    "2. **Estimate parameters manually**  \n",
    "   - Compute the OLS estimator:  \n",
    "     \\[\n",
    "     \\hat{\\beta} = (X'X)^{-1} X'y\n",
    "     \\]  \n",
    "\n",
    "3. **Compare with truth**  \n",
    "   - Compare your estimates \\(\\hat{\\beta}\\) with the true coefficients \\([1, 0.5, -0.3]\\).  \n",
    "\n",
    "4. **Visualization**  \n",
    "   - Plot predicted values \\(\\hat{y}\\) against the actual values \\(y\\).  \n",
    "   - Add a 45° line for reference.  \n",
    "\n",
    "---\n"
   ]
  }
 ],
 "metadata": {
  "language_info": {
   "name": "python"
  }
 },
 "nbformat": 4,
 "nbformat_minor": 5
}
