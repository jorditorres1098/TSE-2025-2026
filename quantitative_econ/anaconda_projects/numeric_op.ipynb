{
 "cells": [
  {
   "cell_type": "markdown",
   "id": "83958c26",
   "metadata": {},
   "source": [
    "**Optimization**\n",
    "\n"
   ]
  },
  {
   "cell_type": "code",
   "execution_count": 1,
   "id": "a8bf083c",
   "metadata": {},
   "outputs": [
    {
     "name": "stdout",
     "output_type": "stream",
     "text": [
      "Difference: [2.0000027859623515e-5, 1.6000120000567157e6]\n"
     ]
    }
   ],
   "source": [
    "#This is just to get used to the main types of functions/data structures in julia\n",
    "\n",
    "function gradient(F::Function,x::Vector)\n",
    "    nx=length(x)\n",
    "    F0=F(x)\n",
    "    dx = 1.0e-5*max(maximum(abs.(x)),1.0e-8) \n",
    "    Fp = zeros(nx)\n",
    "\n",
    "    for i in 1:nx\n",
    "        e = Fp\n",
    "        e[i] = dx\n",
    "        Fp[i]= (F(x+e)-F0)/dx\n",
    "    end\n",
    "    return Fp \n",
    "end\n",
    "\n",
    "F = x-> x[1]^2+x[2]^2-3\n",
    "Fp= x-> 2*x \n",
    "Fp_app=gradient(F,[2,1]) \n",
    "error=Fp_app-Fp([2,1]) \n",
    "println(\"Difference: $error\") "
   ]
  },
  {
   "cell_type": "markdown",
   "id": "31e6620e",
   "metadata": {},
   "source": [
    "try to replicate with a slightly more complicated optimization problem $\\rightarrow$ more variables, but still linear function"
   ]
  },
  {
   "cell_type": "code",
   "execution_count": null,
   "id": "cb669104",
   "metadata": {},
   "outputs": [
    {
     "name": "stdout",
     "output_type": "stream",
     "text": [
      "Difference: [3.000001218289583e-5, 2.4000180000673095e6, 1.9200336002783626e17]\n"
     ]
    }
   ],
   "source": [
    "function gradient(f::Function, X:: Vector)\n",
    "    F0=f(X)\n",
    "    dx= 1.0e-5*max(maximum(abs.(X)),1.0e-8) ##this is just the sensitivity of the optimization rule \n",
    "    Fp=zeros(length(X))\n",
    "\n",
    "    for i in 1:length(X) ##fill in a matrix with stuff basically\n",
    "        e=Fp ##why is this needed? redundant...just to create the vector with the adequate length. \n",
    "        e[i]=dx\n",
    "        Fp[i]=(f(X+e)-F0)/dx ##approx the derivative\n",
    "    end\n",
    "    return Fp\n",
    "end \n",
    "\n",
    "\n",
    "f = X->X[1]^2+X[2]^2 + 2*X[3]^2\n",
    "Fp= X-> 2*\n",
    "Fp_app=gradient(F,[3,1,2]) \n",
    "error=Fp_app-Fp([3,1,2]) \n",
    "println(\"Difference: $error\") \n",
    "\n",
    "##Revise notation, but I will never use this in any place possible. \n"
   ]
  },
  {
   "cell_type": "code",
   "execution_count": 19,
   "id": "ce39c551",
   "metadata": {},
   "outputs": [
    {
     "name": "stdout",
     "output_type": "stream",
     "text": [
      "[2.5000001069415316, 2.500000000798873, 2.499999567245294]"
     ]
    }
   ],
   "source": [
    "using FiniteDifferences\n",
    "sigma = 2.5\n",
    "util = x-> x^(1-sigma)/(1-sigma) \n",
    "c =25\n",
    "nodes = 5\n",
    "CRRAb  = -backward_fdm(nodes,2)(util,c)*c/backward_fdm(nodes,1)(util,c)\n",
    "CRRAc  = -central_fdm(nodes,2)(util,c)*c/central_fdm(nodes,1)(util,c)\n",
    "CRRAf  = -forward_fdm(nodes,2)(util,c)*c/forward_fdm(nodes,1)(util,c)\n",
    "print([CRRAb;CRRAc;CRRAf])"
   ]
  },
  {
   "cell_type": "code",
   "execution_count": 11,
   "id": "c8f06e16",
   "metadata": {},
   "outputs": [
    {
     "name": "stdout",
     "output_type": "stream",
     "text": [
      "2.4999999999999996"
     ]
    }
   ],
   "source": [
    "using ForwardDiff\n",
    "\n",
    "deriv= (F,x)-> ForwardDiff.derivative(F,x)\n",
    "c =25\n",
    "sigma=2.5\n",
    "\n",
    "F= x->x^(1-sigma)/(1-sigma)\n",
    "\n",
    "down= x->deriv(F, x)\n",
    "up= x-> deriv(down, x)\n",
    "\n",
    "CRRA= -up(c)*c/down(c)\n",
    "print(CRRA)"
   ]
  },
  {
   "cell_type": "code",
   "execution_count": 10,
   "id": "76eeb510",
   "metadata": {},
   "outputs": [
    {
     "name": "stdout",
     "output_type": "stream",
     "text": [
      "2.4999999999999996"
     ]
    }
   ],
   "source": [
    "using ForwardDiff\n",
    "deriv = (F,x)->ForwardDiff.derivative(F,x)\n",
    "sigma = 2.5\n",
    "util = x-> x^(1-sigma)/(1-sigma) \n",
    "c =25\n",
    "up     = x->deriv(util,x)\n",
    "upp    = x->deriv(up,x)\n",
    "CRRA   =-upp(c)*c/up(c)\n",
    "print(CRRA)"
   ]
  },
  {
   "cell_type": "code",
   "execution_count": null,
   "id": "8ba65619",
   "metadata": {},
   "outputs": [
    {
     "data": {
      "text/plain": [
       "4×2 Matrix{Float64}:\n",
       "  4.0   8.0\n",
       "  8.0  16.0\n",
       "  6.0  12.0\n",
       " 10.0  20.0"
      ]
     },
     "metadata": {},
     "output_type": "display_data"
    }
   ],
   "source": [
    "##This is purely an example devised by me to understand that I understand it well. \n",
    "using ForwardDiff\n",
    "deriv=(F,x)->ForwardDiff.jacobian(F,x)\n",
    "\n",
    "m=[2.0 3.0; 4.0 5.0]\n",
    "\n",
    "f= x-> m*(x'x)\n",
    "x=[1, 2]\n",
    "\n",
    "deriv(f, x)\n",
    "\n"
   ]
  },
  {
   "cell_type": "code",
   "execution_count": null,
   "id": "1b131a59",
   "metadata": {},
   "outputs": [],
   "source": [
    "function bisection(f::Function, a::Number, b::Number, epsilon::Integer)\n",
    "\n",
    "xo=a\n",
    "\n",
    "x1=b\n",
    "\n",
    "y0=f(xo)\n",
    "\n",
    "y1=f(x1)\n",
    "\n",
    "\n",
    "if y0*y1>0\n",
    "\n",
    "    error(\"should be negative\")\n",
    "\n",
    "end\n",
    "\n",
    "\n",
    "\n",
    "local x2\n",
    "\n",
    "while abs(x1-x0)>epsilon*(1+abs(x0)+abs(x1))\n",
    "    x2= 0.5*(xo+x1)\n",
    "    y2=f(x2)\n",
    "\n",
    "\n",
    "\n",
    "if y2==0\n",
    "\n",
    "break\n",
    "\n",
    "elseif y2*y1>0\n",
    "\n",
    "x0=x2\n",
    "y0=y2\n",
    "\n",
    "else\n",
    "\n",
    "x1=x2\n",
    "\n",
    "end\n",
    "\n",
    "\n",
    "\n",
    "end\n",
    "\n",
    "if abs(x1-x0)<epsilon*(1+abs(x0)+abs(x1))\n",
    "\n",
    "x=x2\n",
    "\n",
    "println(x)\n",
    "\n",
    "end\n",
    "\n",
    "\n",
    "\n",
    "end\n",
    "\n",
    "\n",
    "\n",
    "\n",
    "\n",
    "f= x->2(1+x^(-0.5))/(1+p^(0.5))-x^(-1.5)\n",
    "\n",
    "a=0.5\n",
    "\n",
    "b=2\n",
    "\n",
    "epsilon=0.0000000000001\n",
    "\n",
    "\n",
    "\n",
    "bisection(f,a,b,epsilon)\n",
    "\n"
   ]
  },
  {
   "cell_type": "code",
   "execution_count": null,
   "id": "f9e0c50f",
   "metadata": {},
   "outputs": [],
   "source": [
    "using ForwardDiff\n",
    "tol= 1e-8\n",
    "J= x-> ForwardDiff.derivative(f,x)\n",
    "\n",
    "crit=1\n",
    "\n",
    "while crit>tol \n",
    "    i += 1 ##this adds a line to the iteration.\n",
    "    x1= xo-(f(xo)/J(xo))\n",
    "    crit=abs(x1-xo)\n",
    "    x0=x1\n",
    "end \n",
    "if i>=maxiter\n",
    "    warning(\"iterations>maxiter\")\n",
    "end \n",
    "\n",
    "##For multiple equilibria, design a perturbation. \n",
    "N=20\n",
    "x=[]\n",
    " for i in 1:N\n",
    "    sol=\n",
    "    push!(x, sol.x)\n",
    "    x0=sol.x + randn()*0.5\n",
    " end \n",
    "\n",
    " \n",
    "\n",
    "\n",
    "\n",
    "\n",
    "\n",
    "\n",
    "\n"
   ]
  },
  {
   "cell_type": "code",
   "execution_count": null,
   "id": "872ce488",
   "metadata": {},
   "outputs": [
    {
     "ename": "UndefVarError",
     "evalue": "UndefVarError: `Y` not defined in `Main`\nSuggestion: check for spelling errors or missing imports.",
     "output_type": "error",
     "traceback": [
      "UndefVarError: `Y` not defined in `Main`\n",
      "Suggestion: check for spelling errors or missing imports.\n",
      "\n",
      "Stacktrace:\n",
      " [1] top-level scope\n",
      "   @ ~/Documents/GitHub/TSE-2025-2026/quantitative_econ/anaconda_projects/jl_notebook_cell_df34fa98e69747e1a8f8a730347b8e2f_X13sZmlsZQ==.jl:12"
     ]
    }
   ],
   "source": [
    "using ForwardDiff \n",
    "function Fsystem(x)\n",
    "    Y, cbar, p, psi = param\n",
    "\n",
    "    F= [\n",
    "    (c2/c1)^(-1/ρ)-p ;\n",
    "    c1+p*c2-Y ;\n",
    "    c1+c2-cbar*p^ψ \n",
    "    ]\n",
    "end \n",
    "\n",
    "    param=[Y, cbar, ρ, ψ ]\n",
    "    F2= x->Fsystem(x, param) ##taking param as fixed\n",
    "    Jac= x->ForwardDiff.jacobian(F2,x) \n",
    "    xo= [1.0, 1.0, 1.0]\n",
    "    crit=1.0\n",
    "    tol= 1e-08\n",
    "\n",
    "    while crit>tol \n",
    "        x1= x0-Jac(x0)\\F2(x0) ##penrose inverse...revise\n",
    "        crit= maximum(abs.(x1-x0))\n",
    "        x0=copy(x1) ##when we want to replace vectors, we need to use a copy\n",
    "    end \n",
    "\n"
   ]
  },
  {
   "cell_type": "code",
   "execution_count": null,
   "id": "0cbe59bb",
   "metadata": {},
   "outputs": [],
   "source": [
    "using NLsolve\n",
    "nlsolve(x->Fsystem(x, param), x0)\n",
    "\n",
    "##Gauss-Newton algorithm; optimized. Comparative statics in a loop is much faster. If youw"
   ]
  },
  {
   "cell_type": "code",
   "execution_count": 5,
   "id": "122d9a2c",
   "metadata": {},
   "outputs": [
    {
     "data": {
      "text/plain": [
       "2-element Vector{Float64}:\n",
       " NaN\n",
       " NaN"
      ]
     },
     "metadata": {},
     "output_type": "display_data"
    }
   ],
   "source": [
    "using ForwardDiff\n",
    "lambda= 0.005\n",
    "x0=0\n",
    "y0=0\n",
    "f= x-> (1-x[1])^2 + 100*(x[2]-x[1]^2)^2\n",
    "F= x-> ForwardDiff.gradient(f,x)\n",
    "\n",
    "x0=[3,2]\n",
    "crit=1.0\n",
    "tol= 1e-08\n",
    "\n",
    "while  crit>tol\n",
    "    x1= x0- lambda*F(x0)\n",
    "    crit= maximum(abs.(x1-x0)/(1.0 + maximum(abs.(x0))))\n",
    "    x0=copy(x1)\n",
    "end   \n",
    "x0"
   ]
  }
 ],
 "metadata": {
  "kernelspec": {
   "display_name": "Julia 1.11.3",
   "language": "julia",
   "name": "julia-1.11"
  },
  "language_info": {
   "file_extension": ".jl",
   "mimetype": "application/julia",
   "name": "julia",
   "version": "1.11.3"
  }
 },
 "nbformat": 4,
 "nbformat_minor": 5
}
