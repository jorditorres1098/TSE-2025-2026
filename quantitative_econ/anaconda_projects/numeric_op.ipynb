{
 "cells": [
  {
   "cell_type": "markdown",
   "id": "83958c26",
   "metadata": {},
   "source": [
    "**Optimization**\n",
    "\n"
   ]
  },
  {
   "cell_type": "code",
   "execution_count": 1,
   "id": "a8bf083c",
   "metadata": {},
   "outputs": [
    {
     "name": "stdout",
     "output_type": "stream",
     "text": [
      "Difference: [2.0000027859623515e-5, 1.6000120000567157e6]\n"
     ]
    }
   ],
   "source": [
    "#This is just to get used to the main types of functions/data structures in julia\n",
    "\n",
    "function gradient(F::Function,x::Vector)\n",
    "    nx=length(x)\n",
    "    F0=F(x)\n",
    "    dx = 1.0e-5*max(maximum(abs.(x)),1.0e-8) \n",
    "    Fp = zeros(nx)\n",
    "\n",
    "    for i in 1:nx\n",
    "        e = Fp\n",
    "        e[i] = dx\n",
    "        Fp[i]= (F(x+e)-F0)/dx\n",
    "    end\n",
    "    return Fp \n",
    "end\n",
    "\n",
    "F = x-> x[1]^2+x[2]^2-3\n",
    "Fp= x-> 2*x \n",
    "Fp_app=gradient(F,[2,1]) \n",
    "error=Fp_app-Fp([2,1]) \n",
    "println(\"Difference: $error\") "
   ]
  },
  {
   "cell_type": "markdown",
   "id": "31e6620e",
   "metadata": {},
   "source": [
    "try to replicate with a slightly more complicated optimization problem $\\rightarrow$ more variables, but still linear function"
   ]
  },
  {
   "cell_type": "code",
   "execution_count": null,
   "id": "cb669104",
   "metadata": {},
   "outputs": [
    {
     "name": "stdout",
     "output_type": "stream",
     "text": [
      "Difference: [3.000001218289583e-5, 2.4000180000673095e6, 1.9200336002783626e17]\n"
     ]
    }
   ],
   "source": [
    "function gradient(f::Function, X:: Vector)\n",
    "    F0=f(X)\n",
    "    dx= 1.0e-5*max(maximum(abs.(X)),1.0e-8) ##this is just the sensitivity of the optimization rule \n",
    "    Fp=zeros(length(X))\n",
    "\n",
    "    for i in 1:length(X) ##fill in a matrix with stuff basically\n",
    "        e=Fp ##why is this needed? redundant...just to create the vector with the adequate length. \n",
    "        e[i]=dx\n",
    "        Fp[i]=(f(X+e)-F0)/dx ##approx the derivative\n",
    "    end\n",
    "    return Fp\n",
    "end \n",
    "\n",
    "\n",
    "f = X->X[1]^2+X[2]^2 + 2*X[3]^2\n",
    "Fp= X-> 2*\n",
    "Fp_app=gradient(F,[3,1,2]) \n",
    "error=Fp_app-Fp([3,1,2]) \n",
    "println(\"Difference: $error\") \n",
    "\n",
    "##Revise notation, but I will never use this in any place possible. \n"
   ]
  },
  {
   "cell_type": "code",
   "execution_count": 19,
   "id": "ce39c551",
   "metadata": {},
   "outputs": [
    {
     "name": "stdout",
     "output_type": "stream",
     "text": [
      "[2.5000001069415316, 2.500000000798873, 2.499999567245294]"
     ]
    }
   ],
   "source": [
    "using FiniteDifferences\n",
    "sigma = 2.5\n",
    "util = x-> x^(1-sigma)/(1-sigma) \n",
    "c =25\n",
    "nodes = 5\n",
    "CRRAb  = -backward_fdm(nodes,2)(util,c)*c/backward_fdm(nodes,1)(util,c)\n",
    "CRRAc  = -central_fdm(nodes,2)(util,c)*c/central_fdm(nodes,1)(util,c)\n",
    "CRRAf  = -forward_fdm(nodes,2)(util,c)*c/forward_fdm(nodes,1)(util,c)\n",
    "print([CRRAb;CRRAc;CRRAf])"
   ]
  },
  {
   "cell_type": "code",
   "execution_count": 11,
   "id": "c8f06e16",
   "metadata": {},
   "outputs": [
    {
     "name": "stdout",
     "output_type": "stream",
     "text": [
      "2.4999999999999996"
     ]
    }
   ],
   "source": [
    "using ForwardDiff\n",
    "\n",
    "deriv= (F,x)-> ForwardDiff.derivative(F,x)\n",
    "c =25\n",
    "sigma=2.5\n",
    "\n",
    "F= x->x^(1-sigma)/(1-sigma)\n",
    "\n",
    "down= x->deriv(F, x)\n",
    "up= x-> deriv(down, x)\n",
    "\n",
    "CRRA= -up(c)*c/down(c)\n",
    "print(CRRA)"
   ]
  },
  {
   "cell_type": "code",
   "execution_count": 10,
   "id": "76eeb510",
   "metadata": {},
   "outputs": [
    {
     "name": "stdout",
     "output_type": "stream",
     "text": [
      "2.4999999999999996"
     ]
    }
   ],
   "source": [
    "using ForwardDiff\n",
    "deriv = (F,x)->ForwardDiff.derivative(F,x)\n",
    "sigma = 2.5\n",
    "util = x-> x^(1-sigma)/(1-sigma) \n",
    "c =25\n",
    "up     = x->deriv(util,x)\n",
    "upp    = x->deriv(up,x)\n",
    "CRRA   =-upp(c)*c/up(c)\n",
    "print(CRRA)"
   ]
  },
  {
   "cell_type": "code",
   "execution_count": null,
   "id": "8ba65619",
   "metadata": {},
   "outputs": [
    {
     "data": {
      "text/plain": [
       "4×2 Matrix{Float64}:\n",
       "  4.0   8.0\n",
       "  8.0  16.0\n",
       "  6.0  12.0\n",
       " 10.0  20.0"
      ]
     },
     "metadata": {},
     "output_type": "display_data"
    }
   ],
   "source": [
    "##This is purely an example devised by me to understand that I understand it well. \n",
    "using ForwardDiff\n",
    "deriv=(F,x)->ForwardDiff.jacobian(F,x)\n",
    "\n",
    "m=[2.0 3.0; 4.0 5.0]\n",
    "\n",
    "f= x-> m*(x'x)\n",
    "x=[1, 2]\n",
    "\n",
    "deriv(f, x)\n",
    "\n"
   ]
  }
 ],
 "metadata": {
  "kernelspec": {
   "display_name": "Julia 1.11.3",
   "language": "julia",
   "name": "julia-1.11"
  },
  "language_info": {
   "file_extension": ".jl",
   "mimetype": "application/julia",
   "name": "julia",
   "version": "1.11.3"
  }
 },
 "nbformat": 4,
 "nbformat_minor": 5
}
