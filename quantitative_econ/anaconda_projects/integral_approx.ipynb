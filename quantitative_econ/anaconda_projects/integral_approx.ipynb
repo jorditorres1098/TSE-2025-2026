{
 "cells": [
  {
   "cell_type": "markdown",
   "id": "8b2c21f5",
   "metadata": {},
   "source": [
    "**Lecture 3** This is just a review of the main methods used in class 3. "
   ]
  },
  {
   "cell_type": "code",
   "execution_count": 8,
   "id": "ab1f9290",
   "metadata": {},
   "outputs": [
    {
     "data": {
      "text/plain": [
       "10000.0"
      ]
     },
     "metadata": {},
     "output_type": "display_data"
    }
   ],
   "source": [
    "function midbanvalue(f::Function, a::Number, b::Number, n::Integer)\n",
    "    h=(b-a)/n\n",
    "    x=a.+((1:n).-0.5)*h\n",
    "    y=f.(x)\n",
    "    return integral= h*sum(y) \n",
    "end \n",
    "\n",
    "g= x->2x\n",
    "a=0\n",
    "b=100\n",
    "n=4\n",
    "midbanvalue(g, a, b, n)"
   ]
  },
  {
   "cell_type": "code",
   "execution_count": 12,
   "id": "ea5f4543",
   "metadata": {},
   "outputs": [
    {
     "data": {
      "text/plain": [
       "10000.0"
      ]
     },
     "metadata": {},
     "output_type": "display_data"
    }
   ],
   "source": [
    "function simpson_rule(f::Function, a::Number, b::Number, n::Integer)\n",
    "    h=(b-a)/n\n",
    "    x= range(a, b, n+1)\n",
    "    y=f.(x)\n",
    "    return (h/3)*(y[1] + 2*sum(y[3:2:n+1-2])+ 4*sum(y[2:2:n+1])+ y[n+1])\n",
    "end \n",
    "\n",
    "f= x->2x\n",
    "n=4\n",
    "a=0\n",
    "b=100\n",
    "\n",
    "simpson_rule(f, a, b, n)\n"
   ]
  }
 ],
 "metadata": {
  "kernelspec": {
   "display_name": "Julia 1.11.3",
   "language": "julia",
   "name": "julia-1.11"
  },
  "language_info": {
   "file_extension": ".jl",
   "mimetype": "application/julia",
   "name": "julia",
   "version": "1.11.3"
  }
 },
 "nbformat": 4,
 "nbformat_minor": 5
}
