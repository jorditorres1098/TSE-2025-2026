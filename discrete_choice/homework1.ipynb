{
 "cells": [
  {
   "cell_type": "markdown",
   "id": "b7ce87cb",
   "metadata": {},
   "source": [
    "**Homework 1**\n",
    "*Author: Jordi Torres Vallverdú*\n",
    "*Date:28/10/2025*"
   ]
  },
  {
   "cell_type": "code",
   "execution_count": 64,
   "id": "81c076d3",
   "metadata": {},
   "outputs": [
    {
     "data": {
      "text/html": [
       "<div><div style = \"float: left;\"><span>10316×9 DataFrame</span></div><div style = \"float: right;\"><span style = \"font-style: italic;\">10291 rows omitted</span></div><div style = \"clear: both;\"></div></div><div class = \"data-frame\" style = \"overflow-x: scroll;\"><table class = \"data-frame\" style = \"margin-bottom: 6px;\"><thead><tr class = \"header\"><th class = \"rowNumber\" style = \"font-weight: bold; text-align: right;\">Row</th><th style = \"text-align: left;\">ID</th><th style = \"text-align: left;\">male</th><th style = \"text-align: left;\">ability_math</th><th style = \"text-align: left;\">ability_language</th><th style = \"text-align: left;\">parentcollege</th><th style = \"text-align: left;\">school</th><th style = \"text-align: left;\">degree</th><th style = \"text-align: left;\">dist</th><th style = \"text-align: left;\">period</th></tr><tr class = \"subheader headerLastRow\"><th class = \"rowNumber\" style = \"font-weight: bold; text-align: right;\"></th><th title = \"Union{Missing, Float32}\" style = \"text-align: left;\">Float32?</th><th title = \"Union{Missing, Int8}\" style = \"text-align: left;\">Int8?</th><th title = \"Union{Missing, Float32}\" style = \"text-align: left;\">Float32?</th><th title = \"Union{Missing, Float32}\" style = \"text-align: left;\">Float32?</th><th title = \"Union{Missing, Int8}\" style = \"text-align: left;\">Int8?</th><th title = \"Union{Missing, Float32}\" style = \"text-align: left;\">Float32?</th><th title = \"Union{Missing, Float32}\" style = \"text-align: left;\">Float32?</th><th title = \"Union{Missing, Float32}\" style = \"text-align: left;\">Float32?</th><th title = \"Union{Missing, Float32}\" style = \"text-align: left;\">Float32?</th></tr></thead><tbody><tr><td class = \"rowNumber\" style = \"font-weight: bold; text-align: right;\">1</td><td style = \"text-align: right;\">1.0</td><td style = \"text-align: right;\">0</td><td style = \"text-align: right;\">1.0</td><td style = \"text-align: right;\">0.0</td><td style = \"text-align: right;\">0</td><td style = \"text-align: right;\">1.0</td><td style = \"text-align: right;\">1.0</td><td style = \"text-align: right;\">0.0</td><td style = \"text-align: right;\">1.0</td></tr><tr><td class = \"rowNumber\" style = \"font-weight: bold; text-align: right;\">2</td><td style = \"text-align: right;\">1.0</td><td style = \"text-align: right;\">0</td><td style = \"text-align: right;\">1.0</td><td style = \"text-align: right;\">0.0</td><td style = \"text-align: right;\">0</td><td style = \"text-align: right;\">0.0</td><td style = \"text-align: right;\">1.0</td><td style = \"text-align: right;\">0.0</td><td style = \"text-align: right;\">2.0</td></tr><tr><td class = \"rowNumber\" style = \"font-weight: bold; text-align: right;\">3</td><td style = \"text-align: right;\">2.0</td><td style = \"text-align: right;\">0</td><td style = \"text-align: right;\">0.0</td><td style = \"text-align: right;\">0.0</td><td style = \"text-align: right;\">1</td><td style = \"text-align: right;\">1.0</td><td style = \"text-align: right;\">1.0</td><td style = \"text-align: right;\">5.0</td><td style = \"text-align: right;\">1.0</td></tr><tr><td class = \"rowNumber\" style = \"font-weight: bold; text-align: right;\">4</td><td style = \"text-align: right;\">2.0</td><td style = \"text-align: right;\">0</td><td style = \"text-align: right;\">0.0</td><td style = \"text-align: right;\">0.0</td><td style = \"text-align: right;\">1</td><td style = \"text-align: right;\">0.0</td><td style = \"text-align: right;\">1.0</td><td style = \"text-align: right;\">5.0</td><td style = \"text-align: right;\">2.0</td></tr><tr><td class = \"rowNumber\" style = \"font-weight: bold; text-align: right;\">5</td><td style = \"text-align: right;\">3.0</td><td style = \"text-align: right;\">0</td><td style = \"text-align: right;\">0.0</td><td style = \"text-align: right;\">0.0</td><td style = \"text-align: right;\">0</td><td style = \"text-align: right;\">1.0</td><td style = \"text-align: right;\">1.0</td><td style = \"text-align: right;\">5.0</td><td style = \"text-align: right;\">1.0</td></tr><tr><td class = \"rowNumber\" style = \"font-weight: bold; text-align: right;\">6</td><td style = \"text-align: right;\">3.0</td><td style = \"text-align: right;\">0</td><td style = \"text-align: right;\">0.0</td><td style = \"text-align: right;\">0.0</td><td style = \"text-align: right;\">0</td><td style = \"text-align: right;\">1.0</td><td style = \"text-align: right;\">1.0</td><td style = \"text-align: right;\">5.0</td><td style = \"text-align: right;\">2.0</td></tr><tr><td class = \"rowNumber\" style = \"font-weight: bold; text-align: right;\">7</td><td style = \"text-align: right;\">4.0</td><td style = \"text-align: right;\">0</td><td style = \"text-align: right;\">0.0</td><td style = \"text-align: right;\">0.0</td><td style = \"text-align: right;\">0</td><td style = \"text-align: right;\">1.0</td><td style = \"text-align: right;\">1.0</td><td style = \"text-align: right;\">15.0</td><td style = \"text-align: right;\">1.0</td></tr><tr><td class = \"rowNumber\" style = \"font-weight: bold; text-align: right;\">8</td><td style = \"text-align: right;\">4.0</td><td style = \"text-align: right;\">0</td><td style = \"text-align: right;\">0.0</td><td style = \"text-align: right;\">0.0</td><td style = \"text-align: right;\">0</td><td style = \"text-align: right;\">1.0</td><td style = \"text-align: right;\">1.0</td><td style = \"text-align: right;\">15.0</td><td style = \"text-align: right;\">2.0</td></tr><tr><td class = \"rowNumber\" style = \"font-weight: bold; text-align: right;\">9</td><td style = \"text-align: right;\">5.0</td><td style = \"text-align: right;\">0</td><td style = \"text-align: right;\">-1.0</td><td style = \"text-align: right;\">-1.0</td><td style = \"text-align: right;\">0</td><td style = \"text-align: right;\">1.0</td><td style = \"text-align: right;\">1.0</td><td style = \"text-align: right;\">5.0</td><td style = \"text-align: right;\">1.0</td></tr><tr><td class = \"rowNumber\" style = \"font-weight: bold; text-align: right;\">10</td><td style = \"text-align: right;\">5.0</td><td style = \"text-align: right;\">0</td><td style = \"text-align: right;\">-1.0</td><td style = \"text-align: right;\">-1.0</td><td style = \"text-align: right;\">0</td><td style = \"text-align: right;\">0.0</td><td style = \"text-align: right;\">1.0</td><td style = \"text-align: right;\">5.0</td><td style = \"text-align: right;\">2.0</td></tr><tr><td class = \"rowNumber\" style = \"font-weight: bold; text-align: right;\">11</td><td style = \"text-align: right;\">6.0</td><td style = \"text-align: right;\">0</td><td style = \"text-align: right;\">1.0</td><td style = \"text-align: right;\">2.0</td><td style = \"text-align: right;\">1</td><td style = \"text-align: right;\">1.0</td><td style = \"text-align: right;\">1.0</td><td style = \"text-align: right;\">10.0</td><td style = \"text-align: right;\">1.0</td></tr><tr><td class = \"rowNumber\" style = \"font-weight: bold; text-align: right;\">12</td><td style = \"text-align: right;\">6.0</td><td style = \"text-align: right;\">0</td><td style = \"text-align: right;\">1.0</td><td style = \"text-align: right;\">2.0</td><td style = \"text-align: right;\">1</td><td style = \"text-align: right;\">1.0</td><td style = \"text-align: right;\">1.0</td><td style = \"text-align: right;\">10.0</td><td style = \"text-align: right;\">2.0</td></tr><tr><td class = \"rowNumber\" style = \"font-weight: bold; text-align: right;\">13</td><td style = \"text-align: right;\">7.0</td><td style = \"text-align: right;\">1</td><td style = \"text-align: right;\">-1.0</td><td style = \"text-align: right;\">-2.0</td><td style = \"text-align: right;\">0</td><td style = \"text-align: right;\">1.0</td><td style = \"text-align: right;\">0.0</td><td style = \"text-align: right;\">20.0</td><td style = \"text-align: right;\">1.0</td></tr><tr><td style = \"text-align: right;\">&vellip;</td><td style = \"text-align: right;\">&vellip;</td><td style = \"text-align: right;\">&vellip;</td><td style = \"text-align: right;\">&vellip;</td><td style = \"text-align: right;\">&vellip;</td><td style = \"text-align: right;\">&vellip;</td><td style = \"text-align: right;\">&vellip;</td><td style = \"text-align: right;\">&vellip;</td><td style = \"text-align: right;\">&vellip;</td><td style = \"text-align: right;\">&vellip;</td></tr><tr><td class = \"rowNumber\" style = \"font-weight: bold; text-align: right;\">10305</td><td style = \"text-align: right;\">5153.0</td><td style = \"text-align: right;\">1</td><td style = \"text-align: right;\">-1.0</td><td style = \"text-align: right;\">-2.0</td><td style = \"text-align: right;\">0</td><td style = \"text-align: right;\">1.0</td><td style = \"text-align: right;\">1.0</td><td style = \"text-align: right;\">5.0</td><td style = \"text-align: right;\">1.0</td></tr><tr><td class = \"rowNumber\" style = \"font-weight: bold; text-align: right;\">10306</td><td style = \"text-align: right;\">5153.0</td><td style = \"text-align: right;\">1</td><td style = \"text-align: right;\">-1.0</td><td style = \"text-align: right;\">-2.0</td><td style = \"text-align: right;\">0</td><td style = \"text-align: right;\">0.0</td><td style = \"text-align: right;\">1.0</td><td style = \"text-align: right;\">5.0</td><td style = \"text-align: right;\">2.0</td></tr><tr><td class = \"rowNumber\" style = \"font-weight: bold; text-align: right;\">10307</td><td style = \"text-align: right;\">5154.0</td><td style = \"text-align: right;\">0</td><td style = \"text-align: right;\">1.0</td><td style = \"text-align: right;\">1.0</td><td style = \"text-align: right;\">1</td><td style = \"text-align: right;\">1.0</td><td style = \"text-align: right;\">1.0</td><td style = \"text-align: right;\">15.0</td><td style = \"text-align: right;\">1.0</td></tr><tr><td class = \"rowNumber\" style = \"font-weight: bold; text-align: right;\">10308</td><td style = \"text-align: right;\">5154.0</td><td style = \"text-align: right;\">0</td><td style = \"text-align: right;\">1.0</td><td style = \"text-align: right;\">1.0</td><td style = \"text-align: right;\">1</td><td style = \"text-align: right;\">1.0</td><td style = \"text-align: right;\">1.0</td><td style = \"text-align: right;\">15.0</td><td style = \"text-align: right;\">2.0</td></tr><tr><td class = \"rowNumber\" style = \"font-weight: bold; text-align: right;\">10309</td><td style = \"text-align: right;\">5155.0</td><td style = \"text-align: right;\">0</td><td style = \"text-align: right;\">1.0</td><td style = \"text-align: right;\">0.0</td><td style = \"text-align: right;\">1</td><td style = \"text-align: right;\">1.0</td><td style = \"text-align: right;\">1.0</td><td style = \"text-align: right;\">15.0</td><td style = \"text-align: right;\">1.0</td></tr><tr><td class = \"rowNumber\" style = \"font-weight: bold; text-align: right;\">10310</td><td style = \"text-align: right;\">5155.0</td><td style = \"text-align: right;\">0</td><td style = \"text-align: right;\">1.0</td><td style = \"text-align: right;\">0.0</td><td style = \"text-align: right;\">1</td><td style = \"text-align: right;\">1.0</td><td style = \"text-align: right;\">1.0</td><td style = \"text-align: right;\">15.0</td><td style = \"text-align: right;\">2.0</td></tr><tr><td class = \"rowNumber\" style = \"font-weight: bold; text-align: right;\">10311</td><td style = \"text-align: right;\">5156.0</td><td style = \"text-align: right;\">0</td><td style = \"text-align: right;\">2.0</td><td style = \"text-align: right;\">1.0</td><td style = \"text-align: right;\">1</td><td style = \"text-align: right;\">1.0</td><td style = \"text-align: right;\">1.0</td><td style = \"text-align: right;\">10.0</td><td style = \"text-align: right;\">1.0</td></tr><tr><td class = \"rowNumber\" style = \"font-weight: bold; text-align: right;\">10312</td><td style = \"text-align: right;\">5156.0</td><td style = \"text-align: right;\">0</td><td style = \"text-align: right;\">2.0</td><td style = \"text-align: right;\">1.0</td><td style = \"text-align: right;\">1</td><td style = \"text-align: right;\">1.0</td><td style = \"text-align: right;\">1.0</td><td style = \"text-align: right;\">10.0</td><td style = \"text-align: right;\">2.0</td></tr><tr><td class = \"rowNumber\" style = \"font-weight: bold; text-align: right;\">10313</td><td style = \"text-align: right;\">5157.0</td><td style = \"text-align: right;\">0</td><td style = \"text-align: right;\">0.0</td><td style = \"text-align: right;\">0.0</td><td style = \"text-align: right;\">0</td><td style = \"text-align: right;\">1.0</td><td style = \"text-align: right;\">1.0</td><td style = \"text-align: right;\">5.0</td><td style = \"text-align: right;\">1.0</td></tr><tr><td class = \"rowNumber\" style = \"font-weight: bold; text-align: right;\">10314</td><td style = \"text-align: right;\">5157.0</td><td style = \"text-align: right;\">0</td><td style = \"text-align: right;\">0.0</td><td style = \"text-align: right;\">0.0</td><td style = \"text-align: right;\">0</td><td style = \"text-align: right;\">1.0</td><td style = \"text-align: right;\">1.0</td><td style = \"text-align: right;\">5.0</td><td style = \"text-align: right;\">2.0</td></tr><tr><td class = \"rowNumber\" style = \"font-weight: bold; text-align: right;\">10315</td><td style = \"text-align: right;\">5158.0</td><td style = \"text-align: right;\">0</td><td style = \"text-align: right;\">-2.0</td><td style = \"text-align: right;\">0.0</td><td style = \"text-align: right;\">0</td><td style = \"text-align: right;\">1.0</td><td style = \"text-align: right;\">0.0</td><td style = \"text-align: right;\">15.0</td><td style = \"text-align: right;\">1.0</td></tr><tr><td class = \"rowNumber\" style = \"font-weight: bold; text-align: right;\">10316</td><td style = \"text-align: right;\">5158.0</td><td style = \"text-align: right;\">0</td><td style = \"text-align: right;\">-2.0</td><td style = \"text-align: right;\">0.0</td><td style = \"text-align: right;\">0</td><td style = \"text-align: right;\">0.0</td><td style = \"text-align: right;\">0.0</td><td style = \"text-align: right;\">15.0</td><td style = \"text-align: right;\">2.0</td></tr></tbody></table></div>"
      ],
      "text/latex": [
       "\\begin{tabular}{r|cccccccc}\n",
       "\t& ID & male & ability\\_math & ability\\_language & parentcollege & school & degree & \\\\\n",
       "\t\\hline\n",
       "\t& Float32? & Int8? & Float32? & Float32? & Int8? & Float32? & Float32? & \\\\\n",
       "\t\\hline\n",
       "\t1 & 1.0 & 0 & 1.0 & 0.0 & 0 & 1.0 & 1.0 & $\\dots$ \\\\\n",
       "\t2 & 1.0 & 0 & 1.0 & 0.0 & 0 & 0.0 & 1.0 & $\\dots$ \\\\\n",
       "\t3 & 2.0 & 0 & 0.0 & 0.0 & 1 & 1.0 & 1.0 & $\\dots$ \\\\\n",
       "\t4 & 2.0 & 0 & 0.0 & 0.0 & 1 & 0.0 & 1.0 & $\\dots$ \\\\\n",
       "\t5 & 3.0 & 0 & 0.0 & 0.0 & 0 & 1.0 & 1.0 & $\\dots$ \\\\\n",
       "\t6 & 3.0 & 0 & 0.0 & 0.0 & 0 & 1.0 & 1.0 & $\\dots$ \\\\\n",
       "\t7 & 4.0 & 0 & 0.0 & 0.0 & 0 & 1.0 & 1.0 & $\\dots$ \\\\\n",
       "\t8 & 4.0 & 0 & 0.0 & 0.0 & 0 & 1.0 & 1.0 & $\\dots$ \\\\\n",
       "\t9 & 5.0 & 0 & -1.0 & -1.0 & 0 & 1.0 & 1.0 & $\\dots$ \\\\\n",
       "\t10 & 5.0 & 0 & -1.0 & -1.0 & 0 & 0.0 & 1.0 & $\\dots$ \\\\\n",
       "\t11 & 6.0 & 0 & 1.0 & 2.0 & 1 & 1.0 & 1.0 & $\\dots$ \\\\\n",
       "\t12 & 6.0 & 0 & 1.0 & 2.0 & 1 & 1.0 & 1.0 & $\\dots$ \\\\\n",
       "\t13 & 7.0 & 1 & -1.0 & -2.0 & 0 & 1.0 & 0.0 & $\\dots$ \\\\\n",
       "\t14 & 7.0 & 1 & -1.0 & -2.0 & 0 & 0.0 & 0.0 & $\\dots$ \\\\\n",
       "\t15 & 8.0 & 0 & 0.0 & -1.0 & 0 & 1.0 & 1.0 & $\\dots$ \\\\\n",
       "\t16 & 8.0 & 0 & 0.0 & -1.0 & 0 & 0.0 & 1.0 & $\\dots$ \\\\\n",
       "\t17 & 9.0 & 0 & -1.0 & -1.0 & 0 & 1.0 & 0.0 & $\\dots$ \\\\\n",
       "\t18 & 9.0 & 0 & -1.0 & -1.0 & 0 & 0.0 & 0.0 & $\\dots$ \\\\\n",
       "\t19 & 10.0 & 1 & 1.0 & 1.0 & 1 & 1.0 & 1.0 & $\\dots$ \\\\\n",
       "\t20 & 10.0 & 1 & 1.0 & 1.0 & 1 & 0.0 & 1.0 & $\\dots$ \\\\\n",
       "\t21 & 11.0 & 0 & 1.0 & 0.0 & 1 & 1.0 & 1.0 & $\\dots$ \\\\\n",
       "\t22 & 11.0 & 0 & 1.0 & 0.0 & 1 & 1.0 & 1.0 & $\\dots$ \\\\\n",
       "\t23 & 12.0 & 0 & 0.0 & 0.0 & 0 & 1.0 & 1.0 & $\\dots$ \\\\\n",
       "\t24 & 12.0 & 0 & 0.0 & 0.0 & 0 & 0.0 & 1.0 & $\\dots$ \\\\\n",
       "\t$\\dots$ & $\\dots$ & $\\dots$ & $\\dots$ & $\\dots$ & $\\dots$ & $\\dots$ & $\\dots$ &  \\\\\n",
       "\\end{tabular}\n"
      ],
      "text/plain": [
       "\u001b[1m10316×9 DataFrame\u001b[0m\n",
       "\u001b[1m   Row \u001b[0m│\u001b[1m ID       \u001b[0m\u001b[1m male  \u001b[0m\u001b[1m ability_math \u001b[0m\u001b[1m ability_language \u001b[0m\u001b[1m parentcollege \u001b[0m\u001b[1m schoo\u001b[0m ⋯\n",
       "       │\u001b[90m Float32? \u001b[0m\u001b[90m Int8? \u001b[0m\u001b[90m Float32?     \u001b[0m\u001b[90m Float32?         \u001b[0m\u001b[90m Int8?         \u001b[0m\u001b[90m Float\u001b[0m ⋯\n",
       "───────┼────────────────────────────────────────────────────────────────────────\n",
       "     1 │      1.0      0           1.0               0.0              0        ⋯\n",
       "     2 │      1.0      0           1.0               0.0              0\n",
       "     3 │      2.0      0           0.0               0.0              1\n",
       "     4 │      2.0      0           0.0               0.0              1\n",
       "     5 │      3.0      0           0.0               0.0              0        ⋯\n",
       "     6 │      3.0      0           0.0               0.0              0\n",
       "     7 │      4.0      0           0.0               0.0              0\n",
       "     8 │      4.0      0           0.0               0.0              0\n",
       "   ⋮   │    ⋮        ⋮         ⋮               ⋮                ⋮           ⋮  ⋱\n",
       " 10310 │   5155.0      0           1.0               0.0              1        ⋯\n",
       " 10311 │   5156.0      0           2.0               1.0              1\n",
       " 10312 │   5156.0      0           2.0               1.0              1\n",
       " 10313 │   5157.0      0           0.0               0.0              0\n",
       " 10314 │   5157.0      0           0.0               0.0              0        ⋯\n",
       " 10315 │   5158.0      0          -2.0               0.0              0\n",
       " 10316 │   5158.0      0          -2.0               0.0              0\n",
       "\u001b[36m                                                4 columns and 10301 rows omitted\u001b[0m"
      ]
     },
     "metadata": {},
     "output_type": "display_data"
    }
   ],
   "source": [
    "using StatFiles, DataFrames\n",
    "\n",
    "data_path = \"/Users/jorditorresvallverdu/Downloads/data_assignment.dta\"\n",
    "\n",
    "export_dir = \"/Users/jorditorresvallverdu/Documents/GitHub/TSE-2025-2026/discrete_choice/\"\n",
    "\n",
    "\n",
    "main = DataFrame(load(data_path))\n"
   ]
  },
  {
   "cell_type": "markdown",
   "id": "d12a9191",
   "metadata": {},
   "source": [
    "I will omit the boring part, but I will try to estimate here only the static and then try to do the dynamic also. Furthermore, in the dynamic, do I want to consider instrumental variables??-->this is leading to a ccp estimation, most likely. "
   ]
  },
  {
   "cell_type": "markdown",
   "id": "f93a5151",
   "metadata": {},
   "source": [
    "**Exercise 1**\n",
    "Descriptive statistics of the main variables. "
   ]
  },
  {
   "cell_type": "code",
   "execution_count": 65,
   "id": "473ea55e",
   "metadata": {},
   "outputs": [
    {
     "data": {
      "text/html": [
       "<div><div style = \"float: left;\"><span>9×7 DataFrame</span></div><div style = \"clear: both;\"></div></div><div class = \"data-frame\" style = \"overflow-x: scroll;\"><table class = \"data-frame\" style = \"margin-bottom: 6px;\"><thead><tr class = \"header\"><th class = \"rowNumber\" style = \"font-weight: bold; text-align: right;\">Row</th><th style = \"text-align: left;\">variable</th><th style = \"text-align: left;\">mean</th><th style = \"text-align: left;\">min</th><th style = \"text-align: left;\">median</th><th style = \"text-align: left;\">max</th><th style = \"text-align: left;\">nmissing</th><th style = \"text-align: left;\">eltype</th></tr><tr class = \"subheader headerLastRow\"><th class = \"rowNumber\" style = \"font-weight: bold; text-align: right;\"></th><th title = \"Symbol\" style = \"text-align: left;\">Symbol</th><th title = \"AbstractFloat\" style = \"text-align: left;\">Abstract…</th><th title = \"Real\" style = \"text-align: left;\">Real</th><th title = \"Float64\" style = \"text-align: left;\">Float64</th><th title = \"Real\" style = \"text-align: left;\">Real</th><th title = \"Int64\" style = \"text-align: left;\">Int64</th><th title = \"Union\" style = \"text-align: left;\">Union</th></tr></thead><tbody><tr><td class = \"rowNumber\" style = \"font-weight: bold; text-align: right;\">1</td><td style = \"text-align: left;\">ID</td><td style = \"text-align: right;\">2579.5</td><td style = \"text-align: right;\">1.0</td><td style = \"text-align: right;\">2579.5</td><td style = \"text-align: right;\">5158.0</td><td style = \"text-align: right;\">0</td><td style = \"text-align: left;\">Union{Missing, Float32}</td></tr><tr><td class = \"rowNumber\" style = \"font-weight: bold; text-align: right;\">2</td><td style = \"text-align: left;\">male</td><td style = \"text-align: right;\">0.495541</td><td style = \"text-align: right;\">0</td><td style = \"text-align: right;\">0.0</td><td style = \"text-align: right;\">1</td><td style = \"text-align: right;\">0</td><td style = \"text-align: left;\">Union{Missing, Int8}</td></tr><tr><td class = \"rowNumber\" style = \"font-weight: bold; text-align: right;\">3</td><td style = \"text-align: left;\">ability_math</td><td style = \"text-align: right;\">0.0443971</td><td style = \"text-align: right;\">-2.0</td><td style = \"text-align: right;\">0.0</td><td style = \"text-align: right;\">2.0</td><td style = \"text-align: right;\">0</td><td style = \"text-align: left;\">Union{Missing, Float32}</td></tr><tr><td class = \"rowNumber\" style = \"font-weight: bold; text-align: right;\">4</td><td style = \"text-align: left;\">ability_language</td><td style = \"text-align: right;\">0.0246219</td><td style = \"text-align: right;\">-2.0</td><td style = \"text-align: right;\">0.0</td><td style = \"text-align: right;\">2.0</td><td style = \"text-align: right;\">0</td><td style = \"text-align: left;\">Union{Missing, Float32}</td></tr><tr><td class = \"rowNumber\" style = \"font-weight: bold; text-align: right;\">5</td><td style = \"text-align: left;\">parentcollege</td><td style = \"text-align: right;\">0.27879</td><td style = \"text-align: right;\">0</td><td style = \"text-align: right;\">0.0</td><td style = \"text-align: right;\">1</td><td style = \"text-align: right;\">0</td><td style = \"text-align: left;\">Union{Missing, Int8}</td></tr><tr><td class = \"rowNumber\" style = \"font-weight: bold; text-align: right;\">6</td><td style = \"text-align: left;\">school</td><td style = \"text-align: right;\">0.743505</td><td style = \"text-align: right;\">0.0</td><td style = \"text-align: right;\">1.0</td><td style = \"text-align: right;\">1.0</td><td style = \"text-align: right;\">0</td><td style = \"text-align: left;\">Union{Missing, Float32}</td></tr><tr><td class = \"rowNumber\" style = \"font-weight: bold; text-align: right;\">7</td><td style = \"text-align: left;\">degree</td><td style = \"text-align: right;\">0.777821</td><td style = \"text-align: right;\">0.0</td><td style = \"text-align: right;\">1.0</td><td style = \"text-align: right;\">1.0</td><td style = \"text-align: right;\">0</td><td style = \"text-align: left;\">Union{Missing, Float32}</td></tr><tr><td class = \"rowNumber\" style = \"font-weight: bold; text-align: right;\">8</td><td style = \"text-align: left;\">dist</td><td style = \"text-align: right;\">8.51978</td><td style = \"text-align: right;\">0.0</td><td style = \"text-align: right;\">10.0</td><td style = \"text-align: right;\">25.0</td><td style = \"text-align: right;\">0</td><td style = \"text-align: left;\">Union{Missing, Float32}</td></tr><tr><td class = \"rowNumber\" style = \"font-weight: bold; text-align: right;\">9</td><td style = \"text-align: left;\">period</td><td style = \"text-align: right;\">1.5</td><td style = \"text-align: right;\">1.0</td><td style = \"text-align: right;\">1.5</td><td style = \"text-align: right;\">2.0</td><td style = \"text-align: right;\">0</td><td style = \"text-align: left;\">Union{Missing, Float32}</td></tr></tbody></table></div>"
      ],
      "text/latex": [
       "\\begin{tabular}{r|ccccccc}\n",
       "\t& variable & mean & min & median & max & nmissing & eltype\\\\\n",
       "\t\\hline\n",
       "\t& Symbol & Abstract… & Real & Float64 & Real & Int64 & Union\\\\\n",
       "\t\\hline\n",
       "\t1 & ID & 2579.5 & 1.0 & 2579.5 & 5158.0 & 0 & Union\\{Missing, Float32\\} \\\\\n",
       "\t2 & male & 0.495541 & 0 & 0.0 & 1 & 0 & Union\\{Missing, Int8\\} \\\\\n",
       "\t3 & ability\\_math & 0.0443971 & -2.0 & 0.0 & 2.0 & 0 & Union\\{Missing, Float32\\} \\\\\n",
       "\t4 & ability\\_language & 0.0246219 & -2.0 & 0.0 & 2.0 & 0 & Union\\{Missing, Float32\\} \\\\\n",
       "\t5 & parentcollege & 0.27879 & 0 & 0.0 & 1 & 0 & Union\\{Missing, Int8\\} \\\\\n",
       "\t6 & school & 0.743505 & 0.0 & 1.0 & 1.0 & 0 & Union\\{Missing, Float32\\} \\\\\n",
       "\t7 & degree & 0.777821 & 0.0 & 1.0 & 1.0 & 0 & Union\\{Missing, Float32\\} \\\\\n",
       "\t8 & dist & 8.51978 & 0.0 & 10.0 & 25.0 & 0 & Union\\{Missing, Float32\\} \\\\\n",
       "\t9 & period & 1.5 & 1.0 & 1.5 & 2.0 & 0 & Union\\{Missing, Float32\\} \\\\\n",
       "\\end{tabular}\n"
      ],
      "text/plain": [
       "\u001b[1m9×7 DataFrame\u001b[0m\n",
       "\u001b[1m Row \u001b[0m│\u001b[1m variable         \u001b[0m\u001b[1m mean         \u001b[0m\u001b[1m min  \u001b[0m\u001b[1m median  \u001b[0m\u001b[1m max    \u001b[0m\u001b[1m nmissing \u001b[0m\u001b[1m eltype\u001b[0m ⋯\n",
       "     │\u001b[90m Symbol           \u001b[0m\u001b[90m Abstract…    \u001b[0m\u001b[90m Real \u001b[0m\u001b[90m Float64 \u001b[0m\u001b[90m Real   \u001b[0m\u001b[90m Int64    \u001b[0m\u001b[90m Union \u001b[0m ⋯\n",
       "─────┼──────────────────────────────────────────────────────────────────────────\n",
       "   1 │ ID                2579.5         1.0   2579.5  5158.0         0  Union{ ⋯\n",
       "   2 │ male                 0.495541    0        0.0     1           0  Union{\n",
       "   3 │ ability_math         0.0443971  -2.0      0.0     2.0         0  Union{\n",
       "   4 │ ability_language     0.0246219  -2.0      0.0     2.0         0  Union{\n",
       "   5 │ parentcollege        0.27879     0        0.0     1           0  Union{ ⋯\n",
       "   6 │ school               0.743505    0.0      1.0     1.0         0  Union{\n",
       "   7 │ degree               0.777821    0.0      1.0     1.0         0  Union{\n",
       "   8 │ dist                 8.51978     0.0     10.0    25.0         0  Union{\n",
       "   9 │ period               1.5         1.0      1.5     2.0         0  Union{ ⋯\n",
       "\u001b[36m                                                                1 column omitted\u001b[0m"
      ]
     },
     "metadata": {},
     "output_type": "display_data"
    }
   ],
   "source": [
    "using DataFrames, StatsBase\n",
    "\n",
    "describe(main)\n"
   ]
  },
  {
   "cell_type": "code",
   "execution_count": 66,
   "id": "b383df1d",
   "metadata": {},
   "outputs": [],
   "source": [
    "#Plot some distributions of the ability and math by whether students go or not to college. "
   ]
  },
  {
   "cell_type": "code",
   "execution_count": 67,
   "id": "06269021",
   "metadata": {},
   "outputs": [
    {
     "name": "stdout",
     "output_type": "stream",
     "text": [
      "✅ Plot saved to: /Users/jorditorresvallverdu/Documents/GitHub/TSE-2025-2026/discrete_choice/plot_ability_math_by_school.png\n",
      "✅ Plot saved to: /Users/jorditorresvallverdu/Documents/GitHub/TSE-2025-2026/discrete_choice/plot_ability_math_by_degree.png\n",
      "✅ Plot saved to: /Users/jorditorresvallverdu/Documents/GitHub/TSE-2025-2026/discrete_choice/plot_ability_language_by_school.png\n",
      "✅ Plot saved to: /Users/jorditorresvallverdu/Documents/GitHub/TSE-2025-2026/discrete_choice/plot_ability_language_by_degree.png\n"
     ]
    }
   ],
   "source": [
    "using DataFrames, StatsPlots, FilePathsBase\n",
    "\n",
    "types_ability = [:ability_math, :ability_language]\n",
    "types_school = [:school, :degree] ### This is to include as an array, similar to c() in R. The : saves just the names ¡, this is why afterwards we need to actually call the vector by using the function cols(c) in the DataFrame Package. \n",
    "for i in types_ability\n",
    "    for j in types_school\n",
    "\n",
    "        plot_title = \"Distribution of $(i) by $(j) Attendance\" #added tric\n",
    "        export_path = joinpath(export_dir, \"plot_$(i)_by_$(j).png\")\n",
    "\n",
    "\n",
    "   p= @df main histogram(\n",
    "        cols(i),\n",
    "        group = cols(j),         ##revise why I need cols\n",
    "        fill = (0.3, :auto),      \n",
    "        linewidth = 2,             \n",
    "        legend = :topright,\n",
    "        xlabel = string(i),\n",
    "        ylabel = \"Density\",\n",
    "        title = plot_title,\n",
    "        grid = true,\n",
    "        palette = :Dark2_3,       \n",
    "        normalize =:pdf \n",
    "    )\n",
    "    savefig(p, export_path)\n",
    "    println(\"✅ Plot saved to: \", export_path)\n",
    "    end \n",
    "\n",
    "end "
   ]
  },
  {
   "cell_type": "markdown",
   "id": "d7896559",
   "metadata": {},
   "source": [
    "_Facts_ :\n",
    "\n",
    "1. We see that there is clear sorting in ability for those that go to high school and for those that end up graduating in college. \n",
    "2. $\\rightarrow$ actually, a descriptive model is also the static discrete choice model of decisions at both periods. will directly jump tp that."
   ]
  },
  {
   "cell_type": "markdown",
   "id": "2683c6dd",
   "metadata": {},
   "source": [
    "**Exercise 2**\n",
    "\n",
    "1. Revealed preference argument\n",
    "\n",
    "We assume student i chooses option $j\\in J$ $\\iff$ (**As1. Revealed preference argument**)\n",
    "$$\n",
    "\\begin{align}\n",
    "U_{ij}\\leq U_{ij'} \\forall j'\\in J \\setminus j \\iff \\\\\n",
    "V_{ij}(x_i, x_ij)+ \\epsilon_{ij}\\leq V_{ij'}(x_i, x_ij')+ \\epsilon_{ij'} \\iff \\\\\n",
    "V_{ij}(x_i, x_ij)+ \\epsilon_{ij}- V_{ij'}(x_i, x_ij')+ \\epsilon_{ij'}\\leq 0\n",
    "\\end{align}\n",
    "$$\n",
    "\n",
    "Here $V_{ij}(x_i, x_ij)$ represents the observed part of the utility and $\\epsilon_{ij}$ is a random shock. The observed part of the utility depends on student characteristics, such as ability in math or in language, and in i,j characteristics such as distance to high school (which is a cost measure). Crucially, we assume $\\epsilon_{ij}$ is type I e.v and independent across i and j. In our example, if we take the case of the static decision of going to high school or not, this implies that the epsilons are just idiosyncratic taste shocks. (justifying a type I e.v is easier for logit with only two options, no?)-->cite Train. \n",
    "\n",
    "This assumption allows us to simply write the probability of observing a given option as:\n",
    "$$ P_{ij}= \\frac{\\exp(V_{ij})}{\\exp(V_{ij})+\\exp(V_{ij'})} $$\n",
    "\n",
    "Which we can normalize simply to: \n",
    "\n",
    "$$\n",
    "P_{ij} = \\frac{1}{1 + \\frac{\\exp(V_{ij'})}{\\exp(V_{ij})}}\n",
    "$$\n",
    "\n",
    "And with a binary logit this simplifies to (normalizing the other option as 0 utility):\n",
    "\n",
    "$$\n",
    "P_{ij} = \\frac{1}{1 + \\exp(-V_{i})}\n",
    "$$\n",
    "\n",
    "And then we can simply write the log-likelihood as:\n",
    "\n",
    "$$ LL(\\beta)= \\sum_{i}y_{i} \\log(P_{i})+ (1-y_{i})\\log(1-P_{i}) $$\n",
    "\n",
    "\n",
    "$\\rightarrow$ I can further simplify this because the log of this is simply the difference in coefficients, this is what I will use in the loglikelihood equation.\n",
    "\n",
    "In our case, we know that this is the same as:\n",
    "\n",
    "$$ LL(\\beta)= \\sum_{i}y_{i} \\log(P_{i})+ (1-y_{i})\\log(1-P_{i}) $$\n",
    "\n",
    "And McFadden showed this is stricly concave, so we can use any package in Julia such as Optim to find the solution. I propose to estimate three \n",
    "\n",
    "\n",
    "An implicit assumption in this model is that the students make myopic decisions or don't consider the future when making their decision. Here we model the decision to attend highschool as just depending on student characteristics and we don't model whether they take into account future benefits of high-school in making the decision. We really can't distinguish between flow values of the utilities--> why do we need a dynamic model here? what do you want to say something about? because in a static model could we actually account for the future flow utility? it should be implicitly there?. \n",
    "\n",
    "\n",
    "**Dynamic Problem**\n",
    "\n",
    "Now suppose instead that students consider the future in making the decision to attend high school or not. Suppose we have only two-time periods and agents consider both decisions a $t_1$ and $t_2$. In $t_1$ they consider the same choice as before, but now in $t_2$ they need to decide whether they attend college or not. \n",
    "\n",
    "$$ v_{ijt}= u_{ijt} + \\beta \\mathbb{E}_{\\epsilon_{ijt'},g_{it}}(u_{ijt'}) $$\n",
    "\n",
    "This nests the problem from above when $\\beta=0$. Note also that the expectation in the second period depends on the unobserved shock and the probability of graduating if attending college (state transition). This last element depends on the decision at t."
   ]
  },
  {
   "cell_type": "code",
   "execution_count": 68,
   "id": "a458ccad",
   "metadata": {},
   "outputs": [
    {
     "data": {
      "text/plain": [
       "5158×5 Matrix{Union{Missing, Float64}}:\n",
       " 1.0   1.0   0.0  0.0  0.0\n",
       " 1.0   0.0   0.0  1.0  0.0\n",
       " 1.0   0.0   0.0  0.0  0.0\n",
       " 1.0   0.0   0.0  0.0  0.0\n",
       " 1.0  -1.0  -1.0  0.0  0.0\n",
       " 1.0   1.0   2.0  1.0  0.0\n",
       " 1.0  -1.0  -2.0  0.0  1.0\n",
       " 1.0   0.0  -1.0  0.0  0.0\n",
       " 1.0  -1.0  -1.0  0.0  0.0\n",
       " 1.0   1.0   1.0  1.0  1.0\n",
       " ⋮                     \n",
       " 1.0  -1.0  -1.0  0.0  1.0\n",
       " 1.0   1.0   1.0  0.0  1.0\n",
       " 1.0   1.0   1.0  0.0  0.0\n",
       " 1.0  -1.0  -2.0  0.0  1.0\n",
       " 1.0   1.0   1.0  1.0  0.0\n",
       " 1.0   1.0   0.0  1.0  0.0\n",
       " 1.0   2.0   1.0  1.0  0.0\n",
       " 1.0   0.0   0.0  0.0  0.0\n",
       " 1.0  -2.0   0.0  0.0  0.0"
      ]
     },
     "metadata": {},
     "output_type": "display_data"
    }
   ],
   "source": [
    "##Define the log-likelihood. \n",
    "\n",
    "#define variables \n",
    "period1= main[main.period .==1, :]\n",
    "\n",
    "y=  period1.school\n",
    "x1= period1.ability_math\n",
    "x2= period1.ability_language\n",
    "x3= period1.parentcollege\n",
    "x4= period1.male\n",
    "\n",
    "X= hcat(ones(nrow(period1)), x1, x2, x3, x4)\n",
    "#should filter the obseravtions"
   ]
  },
  {
   "cell_type": "code",
   "execution_count": 69,
   "id": "9a9bcae5",
   "metadata": {},
   "outputs": [
    {
     "data": {
      "text/plain": [
       "log_likelihood (generic function with 1 method)"
      ]
     },
     "metadata": {},
     "output_type": "display_data"
    }
   ],
   "source": [
    "##Define the log_likelihood function for the binary case. \n",
    "\n",
    "function log_likelihood(β::AbstractVector, X::AbstractMatrix, y::AbstractVector)\n",
    "    V= X*β\n",
    "    p= @. 1/(1+exp(-V))    \n",
    "    l= @. y*log(p) + (1-y)*log((1-p)) ## @ works here to make everything element wise operation, instead of putting a point everywhere\n",
    "\n",
    "    return(-sum(l))\n",
    "end"
   ]
  },
  {
   "cell_type": "code",
   "execution_count": 70,
   "id": "817d9269",
   "metadata": {},
   "outputs": [
    {
     "data": {
      "text/plain": [
       "1296.9489476888016"
      ]
     },
     "metadata": {},
     "output_type": "display_data"
    }
   ],
   "source": [
    "##Minimize\n",
    "using Optim\n",
    "\n",
    "β0 = zeros(size(X, 2)) ##need to specify a candidate value. \n",
    "res= optimize(β->log_likelihood(β, X, y),β0, BFGS())\n",
    "\n",
    "β_hat = Optim.minimizer(res)\n",
    "\n",
    "Optim.minimum(res)\n"
   ]
  },
  {
   "cell_type": "markdown",
   "id": "3a56813e",
   "metadata": {},
   "source": [
    "_Computing Standard errors_ \n",
    "We follow these steps: \n",
    "\n",
    "1. Compute the Hessian $H(\\beta)=$\n",
    "2. $V=\\hat{Var}(\\hat{\\beta})=inv(H(\\hat{\\beta}))$\n",
    "3. $SE(\\hat{\\beta})=diag(\\sqrt{.V})$"
   ]
  },
  {
   "cell_type": "code",
   "execution_count": 71,
   "id": "b1b19254",
   "metadata": {},
   "outputs": [
    {
     "data": {
      "text/plain": [
       "5-element Vector{Float64}:\n",
       " 0.10388885523227864\n",
       " 0.08071391470891635\n",
       " 0.08124045667553148\n",
       " 0.1899293897416697\n",
       " 0.1106501556625681"
      ]
     },
     "metadata": {},
     "output_type": "display_data"
    }
   ],
   "source": [
    "using ForwardDiff, LinearAlgebra\n",
    "\n",
    "f = β -> log_likelihood(β, X, y)  \n",
    "H = β -> ForwardDiff.hessian(f, β)\n",
    "H_hat= H(β_hat)\n",
    "\n",
    "V= inv(H_hat)\n",
    "se= sqrt.(diag(V))\n"
   ]
  },
  {
   "cell_type": "code",
   "execution_count": 72,
   "id": "76440685",
   "metadata": {},
   "outputs": [
    {
     "data": {
      "text/html": [
       "<div><div style = \"float: left;\"><span>5×3 DataFrame</span></div><div style = \"clear: both;\"></div></div><div class = \"data-frame\" style = \"overflow-x: scroll;\"><table class = \"data-frame\" style = \"margin-bottom: 6px;\"><thead><tr class = \"header\"><th class = \"rowNumber\" style = \"font-weight: bold; text-align: right;\">Row</th><th style = \"text-align: left;\">term</th><th style = \"text-align: left;\">estimate</th><th style = \"text-align: left;\">std_error</th></tr><tr class = \"subheader headerLastRow\"><th class = \"rowNumber\" style = \"font-weight: bold; text-align: right;\"></th><th title = \"String\" style = \"text-align: left;\">String</th><th title = \"Float64\" style = \"text-align: left;\">Float64</th><th title = \"Float64\" style = \"text-align: left;\">Float64</th></tr></thead><tbody><tr><td class = \"rowNumber\" style = \"font-weight: bold; text-align: right;\">1</td><td style = \"text-align: left;\">β1 (intercept)</td><td style = \"text-align: right;\">3.09666</td><td style = \"text-align: right;\">0.103889</td></tr><tr><td class = \"rowNumber\" style = \"font-weight: bold; text-align: right;\">2</td><td style = \"text-align: left;\">β2 (ability_math)</td><td style = \"text-align: right;\">0.525086</td><td style = \"text-align: right;\">0.0807139</td></tr><tr><td class = \"rowNumber\" style = \"font-weight: bold; text-align: right;\">3</td><td style = \"text-align: left;\">β3 (ability_language)</td><td style = \"text-align: right;\">0.706278</td><td style = \"text-align: right;\">0.0812405</td></tr><tr><td class = \"rowNumber\" style = \"font-weight: bold; text-align: right;\">4</td><td style = \"text-align: left;\">β4 (parentcollege)</td><td style = \"text-align: right;\">0.958382</td><td style = \"text-align: right;\">0.189929</td></tr><tr><td class = \"rowNumber\" style = \"font-weight: bold; text-align: right;\">5</td><td style = \"text-align: left;\">β5 (male)</td><td style = \"text-align: right;\">-0.949152</td><td style = \"text-align: right;\">0.11065</td></tr></tbody></table></div>"
      ],
      "text/latex": [
       "\\begin{tabular}{r|ccc}\n",
       "\t& term & estimate & std\\_error\\\\\n",
       "\t\\hline\n",
       "\t& String & Float64 & Float64\\\\\n",
       "\t\\hline\n",
       "\t1 & β1 (intercept) & 3.09666 & 0.103889 \\\\\n",
       "\t2 & β2 (ability\\_math) & 0.525086 & 0.0807139 \\\\\n",
       "\t3 & β3 (ability\\_language) & 0.706278 & 0.0812405 \\\\\n",
       "\t4 & β4 (parentcollege) & 0.958382 & 0.189929 \\\\\n",
       "\t5 & β5 (male) & -0.949152 & 0.11065 \\\\\n",
       "\\end{tabular}\n"
      ],
      "text/plain": [
       "\u001b[1m5×3 DataFrame\u001b[0m\n",
       "\u001b[1m Row \u001b[0m│\u001b[1m term                  \u001b[0m\u001b[1m estimate  \u001b[0m\u001b[1m std_error \u001b[0m\n",
       "     │\u001b[90m String                \u001b[0m\u001b[90m Float64   \u001b[0m\u001b[90m Float64   \u001b[0m\n",
       "─────┼─────────────────────────────────────────────\n",
       "   1 │ β1 (intercept)          3.09666   0.103889\n",
       "   2 │ β2 (ability_math)       0.525086  0.0807139\n",
       "   3 │ β3 (ability_language)   0.706278  0.0812405\n",
       "   4 │ β4 (parentcollege)      0.958382  0.189929\n",
       "   5 │ β5 (male)              -0.949152  0.11065"
      ]
     },
     "metadata": {},
     "output_type": "display_data"
    }
   ],
   "source": [
    "##Now the idea is to try and create one function that computes all the models for a given input (y, X). \n",
    "\n",
    "\n",
    "using Optim, ForwardDiff, LinearAlgebra, DataFrames\n",
    "\n",
    "function get_betas_se(y, X, varnames)\n",
    "\n",
    "#Estimate parameters    \n",
    "β0 = zeros(size(X, 2)) ##need to specify a candidate value. \n",
    "res= optimize(β->log_likelihood(β, X, y),β0, BFGS())\n",
    "β_hat= Optim.minimizer(res)\n",
    "\n",
    "#Estimate S.E\n",
    "f = β -> log_likelihood(β, X, y)  # returns a scalar\n",
    "H = β -> ForwardDiff.hessian(f, β)\n",
    "H_hat= H(β_hat)\n",
    "\n",
    "V= inv(H_hat)\n",
    "se= sqrt.(diag(V))\n",
    "\n",
    "#Return results in a dataframe\n",
    "results_df = DataFrame(\n",
    "        term = [\"β$i ($name)\" for (i, name) in enumerate(varnames)], ##quite nice tool to actually loop in a more efficient way over order of variables and variable names. \n",
    "        estimate = β_hat,\n",
    "        std_error = se\n",
    "    )\n",
    "\n",
    "return(results_df)\n",
    "\n",
    "    \n",
    "end\n",
    "\n",
    "varnames=[\"intercept\", \"ability_math\", \"ability_language\", \"parentcollege\", \"male\"] ##this I need to find a better way\n",
    "results= get_betas_se(y, X, varnames)"
   ]
  },
  {
   "cell_type": "markdown",
   "id": "5b2fc1f7",
   "metadata": {},
   "source": [
    "**Explaining Graduation**"
   ]
  },
  {
   "cell_type": "code",
   "execution_count": 73,
   "id": "2fff81b1",
   "metadata": {},
   "outputs": [
    {
     "data": {
      "text/plain": [
       "5158×6 Matrix{Union{Missing, Float64}}:\n",
       " 1.0   1.0   0.0  0.0  0.0   0.0\n",
       " 1.0   0.0   0.0  1.0  0.0   5.0\n",
       " 1.0   0.0   0.0  0.0  0.0   5.0\n",
       " 1.0   0.0   0.0  0.0  0.0  15.0\n",
       " 1.0  -1.0  -1.0  0.0  0.0   5.0\n",
       " 1.0   1.0   2.0  1.0  0.0  10.0\n",
       " 1.0  -1.0  -2.0  0.0  1.0  20.0\n",
       " 1.0   0.0  -1.0  0.0  0.0   5.0\n",
       " 1.0  -1.0  -1.0  0.0  0.0  10.0\n",
       " 1.0   1.0   1.0  1.0  1.0   0.0\n",
       " ⋮                           ⋮\n",
       " 1.0  -1.0  -1.0  0.0  1.0   5.0\n",
       " 1.0   1.0   1.0  0.0  1.0   5.0\n",
       " 1.0   1.0   1.0  0.0  0.0   5.0\n",
       " 1.0  -1.0  -2.0  0.0  1.0   5.0\n",
       " 1.0   1.0   1.0  1.0  0.0  15.0\n",
       " 1.0   1.0   0.0  1.0  0.0  15.0\n",
       " 1.0   2.0   1.0  1.0  0.0  10.0\n",
       " 1.0   0.0   0.0  0.0  0.0   5.0\n",
       " 1.0  -2.0   0.0  0.0  0.0  15.0"
      ]
     },
     "metadata": {},
     "output_type": "display_data"
    }
   ],
   "source": [
    "#now let's define the variables for the U2 model. \n",
    "\n",
    "period2= main[main.period .==2, :]\n",
    "\n",
    "y_2=  period2.school\n",
    "x1= period2.ability_math\n",
    "x2= period2.ability_language\n",
    "x3= period2.parentcollege\n",
    "x4= period2.male\n",
    "x5= period2.dist\n",
    "X_2= hcat(ones(nrow(period2)), x1, x2, x3, x4, x5)\n"
   ]
  },
  {
   "cell_type": "code",
   "execution_count": 74,
   "id": "2af7e9f3",
   "metadata": {},
   "outputs": [
    {
     "data": {
      "text/html": [
       "<div><div style = \"float: left;\"><span>6×3 DataFrame</span></div><div style = \"clear: both;\"></div></div><div class = \"data-frame\" style = \"overflow-x: scroll;\"><table class = \"data-frame\" style = \"margin-bottom: 6px;\"><thead><tr class = \"header\"><th class = \"rowNumber\" style = \"font-weight: bold; text-align: right;\">Row</th><th style = \"text-align: left;\">term</th><th style = \"text-align: left;\">estimate</th><th style = \"text-align: left;\">std_error</th></tr><tr class = \"subheader headerLastRow\"><th class = \"rowNumber\" style = \"font-weight: bold; text-align: right;\"></th><th title = \"String\" style = \"text-align: left;\">String</th><th title = \"Float64\" style = \"text-align: left;\">Float64</th><th title = \"Float64\" style = \"text-align: left;\">Float64</th></tr></thead><tbody><tr><td class = \"rowNumber\" style = \"font-weight: bold; text-align: right;\">1</td><td style = \"text-align: left;\">β1 (intercept)</td><td style = \"text-align: right;\">0.617624</td><td style = \"text-align: right;\">0.0813367</td></tr><tr><td class = \"rowNumber\" style = \"font-weight: bold; text-align: right;\">2</td><td style = \"text-align: left;\">β2 (ability_math)</td><td style = \"text-align: right;\">0.912924</td><td style = \"text-align: right;\">0.0645824</td></tr><tr><td class = \"rowNumber\" style = \"font-weight: bold; text-align: right;\">3</td><td style = \"text-align: left;\">β3 (ability_language)</td><td style = \"text-align: right;\">1.10502</td><td style = \"text-align: right;\">0.065319</td></tr><tr><td class = \"rowNumber\" style = \"font-weight: bold; text-align: right;\">4</td><td style = \"text-align: left;\">β4 (parentcollege)</td><td style = \"text-align: right;\">1.10181</td><td style = \"text-align: right;\">0.0944021</td></tr><tr><td class = \"rowNumber\" style = \"font-weight: bold; text-align: right;\">5</td><td style = \"text-align: left;\">β5 (male)</td><td style = \"text-align: right;\">-0.825629</td><td style = \"text-align: right;\">0.0746677</td></tr><tr><td class = \"rowNumber\" style = \"font-weight: bold; text-align: right;\">6</td><td style = \"text-align: left;\">β6 (distance)</td><td style = \"text-align: right;\">-0.00822581</td><td style = \"text-align: right;\">0.0070997</td></tr></tbody></table></div>"
      ],
      "text/latex": [
       "\\begin{tabular}{r|ccc}\n",
       "\t& term & estimate & std\\_error\\\\\n",
       "\t\\hline\n",
       "\t& String & Float64 & Float64\\\\\n",
       "\t\\hline\n",
       "\t1 & β1 (intercept) & 0.617624 & 0.0813367 \\\\\n",
       "\t2 & β2 (ability\\_math) & 0.912924 & 0.0645824 \\\\\n",
       "\t3 & β3 (ability\\_language) & 1.10502 & 0.065319 \\\\\n",
       "\t4 & β4 (parentcollege) & 1.10181 & 0.0944021 \\\\\n",
       "\t5 & β5 (male) & -0.825629 & 0.0746677 \\\\\n",
       "\t6 & β6 (distance) & -0.00822581 & 0.0070997 \\\\\n",
       "\\end{tabular}\n"
      ],
      "text/plain": [
       "\u001b[1m6×3 DataFrame\u001b[0m\n",
       "\u001b[1m Row \u001b[0m│\u001b[1m term                  \u001b[0m\u001b[1m estimate    \u001b[0m\u001b[1m std_error \u001b[0m\n",
       "     │\u001b[90m String                \u001b[0m\u001b[90m Float64     \u001b[0m\u001b[90m Float64   \u001b[0m\n",
       "─────┼───────────────────────────────────────────────\n",
       "   1 │ β1 (intercept)          0.617624    0.0813367\n",
       "   2 │ β2 (ability_math)       0.912924    0.0645824\n",
       "   3 │ β3 (ability_language)   1.10502     0.065319\n",
       "   4 │ β4 (parentcollege)      1.10181     0.0944021\n",
       "   5 │ β5 (male)              -0.825629    0.0746677\n",
       "   6 │ β6 (distance)          -0.00822581  0.0070997"
      ]
     },
     "metadata": {},
     "output_type": "display_data"
    }
   ],
   "source": [
    "##Now we use previous function to optimize over this\n",
    "\n",
    "varnames2=varnames=[\"intercept\", \"ability_math\", \"ability_language\", \"parentcollege\", \"male\", \"distance\"] ##this I need to find a better way\n",
    "results2= get_betas_se(y_2, X_2, varnames2)"
   ]
  },
  {
   "cell_type": "markdown",
   "id": "592db202",
   "metadata": {},
   "source": [
    "#Now we can simply find the preferences in terms of cost by dividing the coefficients by the distance coefficient. However, note that the coefficient is not precisely estimated. Should we still carry on with this? Is my specification correct?"
   ]
  },
  {
   "cell_type": "code",
   "execution_count": 75,
   "id": "bf47b00b",
   "metadata": {},
   "outputs": [
    {
     "data": {
      "text/plain": [
       "6-element Vector{Float64}:\n",
       "  -75.08362161157454\n",
       " -110.98288274047157\n",
       " -134.33601609848844\n",
       " -133.94582548956757\n",
       "  100.37054437514762\n",
       "    1.0"
      ]
     },
     "metadata": {},
     "output_type": "display_data"
    }
   ],
   "source": [
    "\n",
    "cost_coef=results2.estimate[6]\n",
    "coef= results2.estimate\n",
    "coef_normalized= coef ./cost_coef  \n",
    "\n",
    "##How to obtain standard errors on this?\n"
   ]
  },
  {
   "cell_type": "markdown",
   "id": "8b773906",
   "metadata": {},
   "source": [
    "*Graduation*\n",
    "Finally, a simple model that predicts graduation"
   ]
  },
  {
   "cell_type": "code",
   "execution_count": 76,
   "id": "15ca9f75",
   "metadata": {},
   "outputs": [
    {
     "data": {
      "text/html": [
       "<div><div style = \"float: left;\"><span>5×3 DataFrame</span></div><div style = \"clear: both;\"></div></div><div class = \"data-frame\" style = \"overflow-x: scroll;\"><table class = \"data-frame\" style = \"margin-bottom: 6px;\"><thead><tr class = \"header\"><th class = \"rowNumber\" style = \"font-weight: bold; text-align: right;\">Row</th><th style = \"text-align: left;\">term</th><th style = \"text-align: left;\">estimate</th><th style = \"text-align: left;\">std_error</th></tr><tr class = \"subheader headerLastRow\"><th class = \"rowNumber\" style = \"font-weight: bold; text-align: right;\"></th><th title = \"String\" style = \"text-align: left;\">String</th><th title = \"Float64\" style = \"text-align: left;\">Float64</th><th title = \"Float64\" style = \"text-align: left;\">Float64</th></tr></thead><tbody><tr><td class = \"rowNumber\" style = \"font-weight: bold; text-align: right;\">1</td><td style = \"text-align: left;\">β1 (intercept)</td><td style = \"text-align: right;\">1.86257</td><td style = \"text-align: right;\">0.069564</td></tr><tr><td class = \"rowNumber\" style = \"font-weight: bold; text-align: right;\">2</td><td style = \"text-align: left;\">β2 (ability_math)</td><td style = \"text-align: right;\">0.666215</td><td style = \"text-align: right;\">0.0639793</td></tr><tr><td class = \"rowNumber\" style = \"font-weight: bold; text-align: right;\">3</td><td style = \"text-align: left;\">β3 (ability_language)</td><td style = \"text-align: right;\">0.930481</td><td style = \"text-align: right;\">0.065311</td></tr><tr><td class = \"rowNumber\" style = \"font-weight: bold; text-align: right;\">4</td><td style = \"text-align: left;\">β4 (parentcollege)</td><td style = \"text-align: right;\">1.06143</td><td style = \"text-align: right;\">0.129027</td></tr><tr><td class = \"rowNumber\" style = \"font-weight: bold; text-align: right;\">5</td><td style = \"text-align: left;\">β5 (male)</td><td style = \"text-align: right;\">-0.744599</td><td style = \"text-align: right;\">0.0821727</td></tr></tbody></table></div>"
      ],
      "text/latex": [
       "\\begin{tabular}{r|ccc}\n",
       "\t& term & estimate & std\\_error\\\\\n",
       "\t\\hline\n",
       "\t& String & Float64 & Float64\\\\\n",
       "\t\\hline\n",
       "\t1 & β1 (intercept) & 1.86257 & 0.069564 \\\\\n",
       "\t2 & β2 (ability\\_math) & 0.666215 & 0.0639793 \\\\\n",
       "\t3 & β3 (ability\\_language) & 0.930481 & 0.065311 \\\\\n",
       "\t4 & β4 (parentcollege) & 1.06143 & 0.129027 \\\\\n",
       "\t5 & β5 (male) & -0.744599 & 0.0821727 \\\\\n",
       "\\end{tabular}\n"
      ],
      "text/plain": [
       "\u001b[1m5×3 DataFrame\u001b[0m\n",
       "\u001b[1m Row \u001b[0m│\u001b[1m term                  \u001b[0m\u001b[1m estimate  \u001b[0m\u001b[1m std_error \u001b[0m\n",
       "     │\u001b[90m String                \u001b[0m\u001b[90m Float64   \u001b[0m\u001b[90m Float64   \u001b[0m\n",
       "─────┼─────────────────────────────────────────────\n",
       "   1 │ β1 (intercept)          1.86257   0.069564\n",
       "   2 │ β2 (ability_math)       0.666215  0.0639793\n",
       "   3 │ β3 (ability_language)   0.930481  0.065311\n",
       "   4 │ β4 (parentcollege)      1.06143   0.129027\n",
       "   5 │ β5 (male)              -0.744599  0.0821727"
      ]
     },
     "metadata": {},
     "output_type": "display_data"
    }
   ],
   "source": [
    "\n",
    "y_3=  period2.degree\n",
    "\n",
    "varnames=[\"intercept\", \"ability_math\", \"ability_language\", \"parentcollege\", \"male\"] ##this I need to find a better way\n",
    "results3= get_betas_se(y_3, X, varnames)\n"
   ]
  },
  {
   "cell_type": "code",
   "execution_count": 77,
   "id": "07e3a940",
   "metadata": {},
   "outputs": [],
   "source": []
  },
  {
   "cell_type": "markdown",
   "id": "2e2da004",
   "metadata": {},
   "source": [
    "**DYNAMIC MODEL**\n",
    "\n",
    "Let's consider the following dynamic model. At period 0, students can decide whether to go to high school or not. Conditional on them having gone to college in period 0 and having graduated, they can decide to go to higher education or not in period 1. The state variable is thus going to college in period 0 (which affects decisions in the next period).  At t=0, then the two value functions will be:\n",
    "$$\n",
    "\\begin{align}\n",
    "V_{i00}= U_{i0}^{0}(\\theta_{0})+ \\beta \\mathbb{E}(\\bar{V_{1}}(g=0)) //\n",
    "V_{i10}= U_{i1}^{0} + \\beta (P(G=1|X, C=1)\\mathbb{E}(V_{1}(g=1))+ (1-P(G=1|X, C=1))\\mathbb{E}(\\bar{V_{1}}(g=0)))\n",
    "\\end{align}\n",
    "$$\n",
    "\n",
    "We know that student i will decide to go to high school at time 0 $\\iff$\n",
    "$$\n",
    "\\begin{align}\n",
    "V_{1}\\leq V_{O} \\iff \\\\\n",
    "U_{i1}^{0} + \\beta (P(G=1|X, C=1)\\mathbb{E}(V_{1}(g=1))+ (1-P(G=1|X, C=1))\\mathbb{E}(\\bar{V_{1}}(g=0)))\\leq U_{i0}^{0}(\\theta_{0})+ \\beta \\mathbb{E}(\\bar{V_{1}}(g=0)) \n",
    "\\end{align}\n",
    "$$\n",
    "\n",
    "\n",
    "\n",
    "\n",
    "Given that only differences in utilities can be identified, we can ser U(0)= 0 in both periods. Also, given that in t=2, the individual faces a static decision- no matter what shock she has, she knows she will decide optimally. We can do the following trick:\n",
    "$$\n",
    "\\mathbb{E}(V_{1}(g=1))=\\gamma + \\ln (\\exp(U_{1}^{1})+\\exp(U_{0}^{1}))\n",
    "$$\n",
    "\n",
    "$$\n",
    "\\mathbb{E}(V_{1}(g=0))=U_{i0}^{0}=0 (normalized)\n",
    "$$\n",
    "This and the normalization of the utilities allows us to express:\n",
    "\n",
    "$$\n",
    "V_{1}\\leq V_{O} \\iff\n",
    "\\epsilon_{1}^{0}-\\epsilon_{0}^{0}\\leq  -U_{1}^{0} -\\gamma-  \\log(\\exp(U_{1}^{1})+\\exp(U_{0}^{1}))\n",
    "$$\n",
    "\n",
    "And thus we can code the ll: (note that we can also model P in the loglikelihood, we need it too there, the three decisions together)\n",
    "\n",
    "$$\n",
    "LL(\\beta)= \\frac{1}{1+\\exp(-U_{1}^{0} -\\gamma-  \\log(\\exp(U_{1}^{1})+\\exp(U_{0}^{1})))}\n",
    "$$\n",
    "\n",
    "And the last element is 0, no? $\\exp(U_{0}^{1}) 1$?\n",
    "\n",
    "\n",
    "Second, for the loglikelihood, we need to consider:\n",
    "\n",
    "\n",
    "$$\n",
    "\\begin{aligned}\n",
    "P(S=1, G=0, C=0)\n",
    "  &= P(S=1)\\,\\big(1 - P(G=1 \\mid S=1)\\big), \\\\[4pt]\n",
    "P(S=1, G=1, C=0)\n",
    "  &= P(S=1)\\,P(G=1 \\mid S=1)\\,\\big(1 - P(C=1 \\mid G=1, S=1)\\big), \\\\[4pt]\n",
    "P(S=1, G=1, C=1)\n",
    "  &= P(S=1)\\,P(G=1 \\mid S=1)\\,P(C=1 \\mid G=1, S=1), \\\\[4pt]\n",
    "P(S=0, G=0, C=0)\n",
    "  &= 1 - P(S=1).\n",
    "\\end{aligned}\n",
    "$$\n",
    "$$\n",
    "\\begin{aligned}\n",
    "LL(\\beta) = \\sum_i \\Big[ \n",
    "& S_i (1-G_i)(1-C_i) \n",
    "  \\big( \\log P(S_i=1) + \\log (1 - P(G_i=1 \\mid S_i=1)) \\big) \\\\[6pt]\n",
    "&+ S_i G_i (1-C_i) \n",
    "  \\log \\Big( (1 - P(C_i=1 \\mid G_i=1, S_i=1)) \n",
    "              P(G_i=1 \\mid S_i=1) \n",
    "              P(S_i=1) \\Big) \\\\[6pt]\n",
    "&+ S_i G_i C_i \n",
    "  \\log \\Big( P(C_i=1 \\mid G_i=1, S_i=1) \n",
    "              P(G_i=1 \\mid S_i=1) \n",
    "              P(S_i=1) \\Big) \\\\[6pt]\n",
    "&+ (1-S_i)(1-G_i)(1-C_i) \n",
    "  \\log \\big( 1 - P(S_i=1) \\big)\n",
    "\\Big].\n",
    "\\end{aligned}\n",
    "$$\n",
    "\n",
    "\n",
    "We can parametrize then the probabilities by simply defining:\n",
    "\n",
    "$$\n",
    "P(S_i=1)=\\frac{1}{1+\\exp(-U_{1}^{0} -\\gamma-  \\log(\\exp(U_{1}^{1})+1))}\n",
    "$$\n",
    "$$\n",
    "P(G_i=1)=\\frac{1}{1+\\exp(-Z_{i}'\\gamma)}\n",
    "$$\n",
    "$$\n",
    "P(C_i=1)=\\frac{1}{1+\\exp(-C_{i}'\\theta)}\n",
    "$$\n",
    "\n",
    "Note that we can estimate a static and control for the flow utility of the future and we should get the same results? or we care about self-selected sample..\n"
   ]
  },
  {
   "cell_type": "code",
   "execution_count": 78,
   "id": "54c6ab22",
   "metadata": {},
   "outputs": [
    {
     "data": {
      "text/plain": [
       "log_likelihood_joint (generic function with 1 method)"
      ]
     },
     "metadata": {},
     "output_type": "display_data"
    }
   ],
   "source": [
    "using LinearAlgebra\n",
    "\n",
    "function log_likelihood_joint(β_all, X1, X2, s, g, c)\n",
    "    # unpack parameters\n",
    "    k1 = size(X1, 2)\n",
    "    k2 = size(X2, 2)\n",
    "    k3 = size(X1, 2)\n",
    "\n",
    "    β_1 = β_all[1:k1]\n",
    "    θ   = β_all[k1+1:k1+k2]\n",
    "    γ   = β_all[k1+k2+1:k1+k2+k3]\n",
    "    disc= 0.95\n",
    "\n",
    "    # college utility (used in both places)\n",
    "    U_col = X2 * θ\n",
    "\n",
    "    #  probability of going to school (dynamic)\n",
    "    V1 = X1 * β_1\n",
    "    γ_euler = 0.5772\n",
    "    p_s = @. 1 / (1 + exp(-(V1 -γ_euler - log(exp(U_col) + 1))))\n",
    "\n",
    "    #probability of graduating\n",
    "    Z1 = X1 * γ\n",
    "    p_g = @. 1 / (1 + exp(-Z1))\n",
    "\n",
    "    #probability of going to college\n",
    "    p_c = @. 1 / (1 + exp(-U_col))\n",
    "\n",
    "    #avoid log(0)\n",
    "    eps = 1e-12\n",
    "    p_s = clamp.(p_s, eps, 1 - eps)\n",
    "    p_g = clamp.(p_g, eps, 1 - eps)\n",
    "    p_c = clamp.(p_c, eps, 1 - eps)\n",
    "\n",
    "    #log-likelihood contributions\n",
    "    l = @. s*(1-g)*(1-c)*(log(p_s) + log(1 - p_g)) +\n",
    "           s*g*(1-c)*(log(1 - p_c) + log(p_g) + log(p_s)) +\n",
    "           s*g*c*(log(p_c) + log(p_g) + log(p_s)) +\n",
    "           (1 - s)*(1 - g)*(1 - c)*log(1 - p_s)\n",
    "\n",
    "    return -sum(l)\n",
    "end\n"
   ]
  },
  {
   "cell_type": "code",
   "execution_count": 79,
   "id": "4d4dff7e",
   "metadata": {},
   "outputs": [
    {
     "data": {
      "text/plain": [
       "5158×6 Matrix{Union{Missing, Float64}}:\n",
       " 1.0   1.0   0.0  0.0  0.0   0.0\n",
       " 1.0   0.0   0.0  1.0  0.0   5.0\n",
       " 1.0   0.0   0.0  0.0  0.0   5.0\n",
       " 1.0   0.0   0.0  0.0  0.0  15.0\n",
       " 1.0  -1.0  -1.0  0.0  0.0   5.0\n",
       " 1.0   1.0   2.0  1.0  0.0  10.0\n",
       " 1.0  -1.0  -2.0  0.0  1.0  20.0\n",
       " 1.0   0.0  -1.0  0.0  0.0   5.0\n",
       " 1.0  -1.0  -1.0  0.0  0.0  10.0\n",
       " 1.0   1.0   1.0  1.0  1.0   0.0\n",
       " ⋮                           ⋮\n",
       " 1.0  -1.0  -1.0  0.0  1.0   5.0\n",
       " 1.0   1.0   1.0  0.0  1.0   5.0\n",
       " 1.0   1.0   1.0  0.0  0.0   5.0\n",
       " 1.0  -1.0  -2.0  0.0  1.0   5.0\n",
       " 1.0   1.0   1.0  1.0  0.0  15.0\n",
       " 1.0   1.0   0.0  1.0  0.0  15.0\n",
       " 1.0   2.0   1.0  1.0  0.0  10.0\n",
       " 1.0   0.0   0.0  0.0  0.0   5.0\n",
       " 1.0  -2.0   0.0  0.0  0.0  15.0"
      ]
     },
     "metadata": {},
     "output_type": "display_data"
    }
   ],
   "source": [
    "#define variables \n",
    "\n",
    "s=  period1.school\n",
    "x1= period1.ability_math\n",
    "x2= period1.ability_language\n",
    "x3= period1.parentcollege\n",
    "x4= period1.male\n",
    "\n",
    "X1= hcat(ones(nrow(period1)), x1, x2, x3, x4)\n",
    "#should filter the obseravtions\n",
    "\n",
    "g=  period1.degree\n",
    "\n",
    "c=  period2.school\n",
    "x1= period2.ability_math\n",
    "x2= period2.ability_language\n",
    "x3= period2.parentcollege\n",
    "x4= period2.male\n",
    "x5= period2.dist\n",
    "\n",
    "X2= hcat(ones(nrow(period2)), x1, x2, x3, x4, x5)\n",
    "#should filter the obseravtions"
   ]
  },
  {
   "cell_type": "code",
   "execution_count": 80,
   "id": "940264a2",
   "metadata": {},
   "outputs": [
    {
     "ename": "AssertionError",
     "evalue": "AssertionError: isfinite(phi_c) && isfinite(dphi_c)",
     "output_type": "error",
     "traceback": [
      "AssertionError: isfinite(phi_c) && isfinite(dphi_c)\n",
      "\n",
      "Stacktrace:\n",
      "  [1] secant2!(ϕdϕ::LineSearches.var\"#ϕdϕ#6\"{Optim.ManifoldObjective{OnceDifferentiable{Float64, Vector{Float64}, Vector{Float64}}}, Vector{Float64}, Vector{Float64}, Vector{Float64}}, alphas::Vector{Float64}, values::Vector{Float64}, slopes::Vector{Float64}, ia::Int64, ib::Int64, phi_lim::Float64, delta::Float64, sigma::Float64, display::Int64)\n",
      "    @ LineSearches ~/.julia/packages/LineSearches/b4CwT/src/hagerzhang.jl:378\n",
      "  [2] (::LineSearches.HagerZhang{Float64, Base.RefValue{Bool}})(ϕ::Function, ϕdϕ::LineSearches.var\"#ϕdϕ#6\"{Optim.ManifoldObjective{OnceDifferentiable{Float64, Vector{Float64}, Vector{Float64}}}, Vector{Float64}, Vector{Float64}, Vector{Float64}}, c::Float64, phi_0::Float64, dphi_0::Float64)\n",
      "    @ LineSearches ~/.julia/packages/LineSearches/b4CwT/src/hagerzhang.jl:277\n",
      "  [3] HagerZhang\n",
      "    @ ~/.julia/packages/LineSearches/b4CwT/src/hagerzhang.jl:103 [inlined]\n",
      "  [4] perform_linesearch!(state::Optim.BFGSState{Vector{Float64}, Matrix{Float64}, Float64, Vector{Float64}}, method::BFGS{LineSearches.InitialStatic{Float64}, LineSearches.HagerZhang{Float64, Base.RefValue{Bool}}, Nothing, Nothing, Flat}, d::Optim.ManifoldObjective{OnceDifferentiable{Float64, Vector{Float64}, Vector{Float64}}})\n",
      "    @ Optim ~/.julia/packages/Optim/7krni/src/utilities/perform_linesearch.jl:58\n",
      "  [5] update_state!(d::OnceDifferentiable{Float64, Vector{Float64}, Vector{Float64}}, state::Optim.BFGSState{Vector{Float64}, Matrix{Float64}, Float64, Vector{Float64}}, method::BFGS{LineSearches.InitialStatic{Float64}, LineSearches.HagerZhang{Float64, Base.RefValue{Bool}}, Nothing, Nothing, Flat})\n",
      "    @ Optim ~/.julia/packages/Optim/7krni/src/multivariate/solvers/first_order/bfgs.jl:143\n",
      "  [6] optimize(d::OnceDifferentiable{Float64, Vector{Float64}, Vector{Float64}}, initial_x::Vector{Float64}, method::BFGS{LineSearches.InitialStatic{Float64}, LineSearches.HagerZhang{Float64, Base.RefValue{Bool}}, Nothing, Nothing, Flat}, options::Optim.Options{Float64, Nothing}, state::Optim.BFGSState{Vector{Float64}, Matrix{Float64}, Float64, Vector{Float64}})\n",
      "    @ Optim ~/.julia/packages/Optim/7krni/src/multivariate/optimize/optimize.jl:65\n",
      "  [7] optimize\n",
      "    @ ~/.julia/packages/Optim/7krni/src/multivariate/optimize/optimize.jl:43 [inlined]\n",
      "  [8] #optimize#77\n",
      "    @ ~/.julia/packages/Optim/7krni/src/multivariate/optimize/interface.jl:274 [inlined]\n",
      "  [9] optimize\n",
      "    @ ~/.julia/packages/Optim/7krni/src/multivariate/optimize/interface.jl:264 [inlined]\n",
      " [10] top-level scope\n",
      "    @ ~/Documents/GitHub/TSE-2025-2026/discrete_choice/jl_notebook_cell_df34fa98e69747e1a8f8a730347b8e2f_X35sZmlsZQ==.jl:14"
     ]
    }
   ],
   "source": [
    "using Optim, ForwardDiff, Distributions\n",
    "\n",
    "n1 = size(X1, 2)\n",
    "n2 = size(X2, 2)\n",
    "n3 = size(X1, 2)\n",
    "\n",
    "ll_max= Inf\n",
    "beta_top= nothing\n",
    "\n",
    "for i in 1:100\n",
    "\n",
    "β0 = rand(Uniform(-4, 4), n1 + n2 + n3) ##At each iteration, get new random starting values. Avoid local maximum. \n",
    "\n",
    "    res = optimize(\n",
    "        β -> log_likelihood_joint(β, X1, X2, s, g, c),\n",
    "        β0,\n",
    "        BFGS();\n",
    "        autodiff = :forward\n",
    "    )\n",
    "    \n",
    "\n",
    "    ll= Optim.minimum(res) ##get the ll\n",
    "\n",
    "    if ll<ll_max #keep the lowest from the whole iterations. \n",
    "        ll_max=ll\n",
    "        β_hat= Optim.minimizer(res)\n",
    "    end \n",
    "\n",
    "\n",
    "end \n",
    "\n"
   ]
  },
  {
   "cell_type": "code",
   "execution_count": null,
   "id": "549380fe",
   "metadata": {},
   "outputs": [
    {
     "data": {
      "text/plain": [
       "16-element Vector{Float64}:\n",
       " 0.10856161339686839\n",
       " 0.08650761193870382\n",
       " 0.08643109435693527\n",
       " 0.20704432455041188\n",
       " 0.1178696824385358\n",
       " 0.08969227851436905\n",
       " 0.07102570488912745\n",
       " 0.0711219026509979\n",
       " 0.10794342605183943\n",
       " 0.08362565465301426\n",
       " 0.0077645847052689445\n",
       " 0.08121267657246803\n",
       " 0.07496114474077274\n",
       " 0.0764428167817595\n",
       " 0.15971670406537936\n",
       " 0.09714243087862189"
      ]
     },
     "metadata": {},
     "output_type": "display_data"
    }
   ],
   "source": [
    "using ForwardDiff, LinearAlgebra\n",
    "\n",
    "\n",
    "f = β -> log_likelihood_joint(β, X1, X2, s, g, c)  # returns a scalar\n",
    "H = β -> ForwardDiff.hessian(f, β)\n",
    "H_hat= H(β_hat)\n",
    "\n",
    "V= inv(H_hat)\n",
    "se= sqrt.(diag(V))\n",
    "\n"
   ]
  },
  {
   "cell_type": "code",
   "execution_count": null,
   "id": "1900e1d3",
   "metadata": {},
   "outputs": [
    {
     "data": {
      "text/html": [
       "<div><div style = \"float: left;\"><span>16×3 DataFrame</span></div><div style = \"clear: both;\"></div></div><div class = \"data-frame\" style = \"overflow-x: scroll;\"><table class = \"data-frame\" style = \"margin-bottom: 6px;\"><thead><tr class = \"header\"><th class = \"rowNumber\" style = \"font-weight: bold; text-align: right;\">Row</th><th style = \"text-align: left;\">term</th><th style = \"text-align: left;\">estimate</th><th style = \"text-align: left;\">std_error</th></tr><tr class = \"subheader headerLastRow\"><th class = \"rowNumber\" style = \"font-weight: bold; text-align: right;\"></th><th title = \"String\" style = \"text-align: left;\">String</th><th title = \"Float64\" style = \"text-align: left;\">Float64</th><th title = \"Float64\" style = \"text-align: left;\">Float64</th></tr></thead><tbody><tr><td class = \"rowNumber\" style = \"font-weight: bold; text-align: right;\">1</td><td style = \"text-align: left;\">β1 (intercept_1)</td><td style = \"text-align: right;\">5.03123</td><td style = \"text-align: right;\">0.108562</td></tr><tr><td class = \"rowNumber\" style = \"font-weight: bold; text-align: right;\">2</td><td style = \"text-align: left;\">β2 (ability_math_1)</td><td style = \"text-align: right;\">0.856858</td><td style = \"text-align: right;\">0.0865076</td></tr><tr><td class = \"rowNumber\" style = \"font-weight: bold; text-align: right;\">3</td><td style = \"text-align: left;\">β3 (ability_language_1)</td><td style = \"text-align: right;\">1.11307</td><td style = \"text-align: right;\">0.0864311</td></tr><tr><td class = \"rowNumber\" style = \"font-weight: bold; text-align: right;\">4</td><td style = \"text-align: left;\">β4 (parentcollege_1)</td><td style = \"text-align: right;\">1.70108</td><td style = \"text-align: right;\">0.207044</td></tr><tr><td class = \"rowNumber\" style = \"font-weight: bold; text-align: right;\">5</td><td style = \"text-align: left;\">β5 (male_1)</td><td style = \"text-align: right;\">-1.23328</td><td style = \"text-align: right;\">0.11787</td></tr><tr><td class = \"rowNumber\" style = \"font-weight: bold; text-align: right;\">6</td><td style = \"text-align: left;\">β6 (intercept_2)</td><td style = \"text-align: right;\">1.05238</td><td style = \"text-align: right;\">0.0896923</td></tr><tr><td class = \"rowNumber\" style = \"font-weight: bold; text-align: right;\">7</td><td style = \"text-align: left;\">β7 (ability_math_2)</td><td style = \"text-align: right;\">0.745717</td><td style = \"text-align: right;\">0.0710257</td></tr><tr><td class = \"rowNumber\" style = \"font-weight: bold; text-align: right;\">8</td><td style = \"text-align: left;\">β8 (ability_language_2)</td><td style = \"text-align: right;\">0.860125</td><td style = \"text-align: right;\">0.0711219</td></tr><tr><td class = \"rowNumber\" style = \"font-weight: bold; text-align: right;\">9</td><td style = \"text-align: left;\">β9 (parentcollege_2)</td><td style = \"text-align: right;\">0.954359</td><td style = \"text-align: right;\">0.107943</td></tr><tr><td class = \"rowNumber\" style = \"font-weight: bold; text-align: right;\">10</td><td style = \"text-align: left;\">β10 (male_2)</td><td style = \"text-align: right;\">-0.558233</td><td style = \"text-align: right;\">0.0836257</td></tr><tr><td class = \"rowNumber\" style = \"font-weight: bold; text-align: right;\">11</td><td style = \"text-align: left;\">β11 (distance_2)</td><td style = \"text-align: right;\">-0.00671753</td><td style = \"text-align: right;\">0.00776458</td></tr><tr><td class = \"rowNumber\" style = \"font-weight: bold; text-align: right;\">12</td><td style = \"text-align: left;\">β12 (intercept_col)</td><td style = \"text-align: right;\">2.21717</td><td style = \"text-align: right;\">0.0812127</td></tr><tr><td class = \"rowNumber\" style = \"font-weight: bold; text-align: right;\">13</td><td style = \"text-align: left;\">β13 (ability_math_col)</td><td style = \"text-align: right;\">0.644811</td><td style = \"text-align: right;\">0.0749611</td></tr><tr><td class = \"rowNumber\" style = \"font-weight: bold; text-align: right;\">14</td><td style = \"text-align: left;\">β14 (ability_language_col)</td><td style = \"text-align: right;\">0.899847</td><td style = \"text-align: right;\">0.0764428</td></tr><tr><td class = \"rowNumber\" style = \"font-weight: bold; text-align: right;\">15</td><td style = \"text-align: left;\">β15 (parentcollege_col)</td><td style = \"text-align: right;\">1.0496</td><td style = \"text-align: right;\">0.159717</td></tr><tr><td class = \"rowNumber\" style = \"font-weight: bold; text-align: right;\">16</td><td style = \"text-align: left;\">β16 (male_col)</td><td style = \"text-align: right;\">-0.480706</td><td style = \"text-align: right;\">0.0971424</td></tr></tbody></table></div>"
      ],
      "text/latex": [
       "\\begin{tabular}{r|ccc}\n",
       "\t& term & estimate & std\\_error\\\\\n",
       "\t\\hline\n",
       "\t& String & Float64 & Float64\\\\\n",
       "\t\\hline\n",
       "\t1 & β1 (intercept\\_1) & 5.03123 & 0.108562 \\\\\n",
       "\t2 & β2 (ability\\_math\\_1) & 0.856858 & 0.0865076 \\\\\n",
       "\t3 & β3 (ability\\_language\\_1) & 1.11307 & 0.0864311 \\\\\n",
       "\t4 & β4 (parentcollege\\_1) & 1.70108 & 0.207044 \\\\\n",
       "\t5 & β5 (male\\_1) & -1.23328 & 0.11787 \\\\\n",
       "\t6 & β6 (intercept\\_2) & 1.05238 & 0.0896923 \\\\\n",
       "\t7 & β7 (ability\\_math\\_2) & 0.745717 & 0.0710257 \\\\\n",
       "\t8 & β8 (ability\\_language\\_2) & 0.860125 & 0.0711219 \\\\\n",
       "\t9 & β9 (parentcollege\\_2) & 0.954359 & 0.107943 \\\\\n",
       "\t10 & β10 (male\\_2) & -0.558233 & 0.0836257 \\\\\n",
       "\t11 & β11 (distance\\_2) & -0.00671753 & 0.00776458 \\\\\n",
       "\t12 & β12 (intercept\\_col) & 2.21717 & 0.0812127 \\\\\n",
       "\t13 & β13 (ability\\_math\\_col) & 0.644811 & 0.0749611 \\\\\n",
       "\t14 & β14 (ability\\_language\\_col) & 0.899847 & 0.0764428 \\\\\n",
       "\t15 & β15 (parentcollege\\_col) & 1.0496 & 0.159717 \\\\\n",
       "\t16 & β16 (male\\_col) & -0.480706 & 0.0971424 \\\\\n",
       "\\end{tabular}\n"
      ],
      "text/plain": [
       "\u001b[1m16×3 DataFrame\u001b[0m\n",
       "\u001b[1m Row \u001b[0m│\u001b[1m term                       \u001b[0m\u001b[1m estimate    \u001b[0m\u001b[1m std_error  \u001b[0m\n",
       "     │\u001b[90m String                     \u001b[0m\u001b[90m Float64     \u001b[0m\u001b[90m Float64    \u001b[0m\n",
       "─────┼─────────────────────────────────────────────────────\n",
       "   1 │ β1 (intercept_1)             5.03123     0.108562\n",
       "   2 │ β2 (ability_math_1)          0.856858    0.0865076\n",
       "   3 │ β3 (ability_language_1)      1.11307     0.0864311\n",
       "   4 │ β4 (parentcollege_1)         1.70108     0.207044\n",
       "   5 │ β5 (male_1)                 -1.23328     0.11787\n",
       "   6 │ β6 (intercept_2)             1.05238     0.0896923\n",
       "   7 │ β7 (ability_math_2)          0.745717    0.0710257\n",
       "   8 │ β8 (ability_language_2)      0.860125    0.0711219\n",
       "   9 │ β9 (parentcollege_2)         0.954359    0.107943\n",
       "  10 │ β10 (male_2)                -0.558233    0.0836257\n",
       "  11 │ β11 (distance_2)            -0.00671753  0.00776458\n",
       "  12 │ β12 (intercept_col)          2.21717     0.0812127\n",
       "  13 │ β13 (ability_math_col)       0.644811    0.0749611\n",
       "  14 │ β14 (ability_language_col)   0.899847    0.0764428\n",
       "  15 │ β15 (parentcollege_col)      1.0496      0.159717\n",
       "  16 │ β16 (male_col)              -0.480706    0.0971424"
      ]
     },
     "metadata": {},
     "output_type": "display_data"
    }
   ],
   "source": [
    "##Putting it all together nicely. \n",
    "\n",
    "varnames= [\"intercept_1\", \"ability_math_1\", \"ability_language_1\", \"parentcollege_1\", \"male_1\", \"intercept_2\", \"ability_math_2\", \"ability_language_2\", \"parentcollege_2\", \"male_2\", \"distance_2\", \"intercept_col\", \"ability_math_col\", \"ability_language_col\", \"parentcollege_col\", \"male_col\"]\n",
    "results_df = DataFrame(\n",
    "        term = [\"β$i ($name)\" for (i, name) in enumerate(varnames)], ##quite nice tool to actually loop in a more efficient way over order of variables and variable names. \n",
    "        estimate = β_hat,\n",
    "        std_error = se\n",
    "    )\n",
    "\n"
   ]
  }
 ],
 "metadata": {
  "kernelspec": {
   "display_name": "Julia 1.11.3",
   "language": "julia",
   "name": "julia-1.11"
  },
  "language_info": {
   "file_extension": ".jl",
   "mimetype": "application/julia",
   "name": "julia",
   "version": "1.11.3"
  }
 },
 "nbformat": 4,
 "nbformat_minor": 5
}
